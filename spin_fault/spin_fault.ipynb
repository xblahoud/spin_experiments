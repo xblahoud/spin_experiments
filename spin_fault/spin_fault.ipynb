{
 "metadata": {
  "name": "",
  "signature": "sha256:e20423de0b7601ead2bd98de9c98f1af83d22f0023fa7e2436ec4b02e7967ea7"
 },
 "nbformat": 3,
 "nbformat_minor": 0,
 "worksheets": [
  {
   "cells": [
    {
     "cell_type": "heading",
     "level": 1,
     "metadata": {},
     "source": [
      "An interesting Spin case"
     ]
    },
    {
     "cell_type": "code",
     "collapsed": false,
     "input": [
      "from IPython.display import display,SVG,Image"
     ],
     "language": "python",
     "metadata": {},
     "outputs": [],
     "prompt_number": 1
    },
    {
     "cell_type": "code",
     "collapsed": false,
     "input": [
      "!rm n* *.trail pan* 2>/dev/null\n",
      "!ls"
     ],
     "language": "python",
     "metadata": {},
     "outputs": [
      {
       "output_type": "stream",
       "stream": "stdout",
       "text": [
        "extinction.2.pm  spin_fault.ipynb\r\n"
       ]
      }
     ],
     "prompt_number": 2
    },
    {
     "cell_type": "heading",
     "level": 2,
     "metadata": {},
     "source": [
      "Configuration"
     ]
    },
    {
     "cell_type": "code",
     "collapsed": false,
     "input": [
      "formula = \"'G!G(ap0 -> Gap0)'\"\n",
      "model = \"extinction.2.pm\""
     ],
     "language": "python",
     "metadata": {},
     "outputs": [],
     "prompt_number": 3
    },
    {
     "cell_type": "markdown",
     "metadata": {},
     "source": [
      "Configuration of the tools for ltlcross"
     ]
    },
    {
     "cell_type": "code",
     "collapsed": false,
     "input": [
      "ltl3ba_conf = \"'ltl3ba -M0 -f %s > %O'\"\n",
      "ltl2tgba_conf = \"'ltl2tgba -s -f %s > %O'\""
     ],
     "language": "python",
     "metadata": {},
     "outputs": [],
     "prompt_number": 4
    },
    {
     "cell_type": "heading",
     "level": 2,
     "metadata": {},
     "source": [
      "Automata correctness"
     ]
    },
    {
     "cell_type": "markdown",
     "metadata": {},
     "source": [
      "We run ltlcross with ltl3ba and spot on the given formula"
     ]
    },
    {
     "cell_type": "code",
     "collapsed": false,
     "input": [
      "!ltlcross -t{ltl3ba_conf} -t{ltl2tgba_conf} -f {formula}"
     ],
     "language": "python",
     "metadata": {},
     "outputs": [
      {
       "output_type": "stream",
       "stream": "stdout",
       "text": [
        "\u001b[01;34m([](!([]((!(ap0)) || ([](ap0))))))\r\n",
        "\u001b[mRunning [P0]: ltl3ba -M0 -f '([](!([]((!(ap0)) || ([](ap0))))))' > 'lcr-o0-cK7jqL'\r\n",
        "Running [P1]: ltl2tgba -s -f '([](!([]((!(ap0)) || ([](ap0))))))' > 'lcr-o1-RxH40w'\r\n",
        "Running [N0]: ltl3ba -M0 -f '(!([](!([]((!(ap0)) || ([](ap0)))))))' > 'lcr-o0-qz6HEi'\r\n",
        "Running [N1]: ltl2tgba -s -f '(!([](!([]((!(ap0)) || ([](ap0)))))))' > 'lcr-o1-36Plj4'\r\n"
       ]
      },
      {
       "output_type": "stream",
       "stream": "stdout",
       "text": [
        "Performing sanity checks and gathering statistics...\r\n",
        "\r\n",
        "No problem detected.\r\n"
       ]
      }
     ],
     "prompt_number": 5
    },
    {
     "cell_type": "heading",
     "level": 2,
     "metadata": {},
     "source": [
      "Spin runs"
     ]
    },
    {
     "cell_type": "heading",
     "level": 3,
     "metadata": {},
     "source": [
      "Neverclaim generation"
     ]
    },
    {
     "cell_type": "code",
     "collapsed": false,
     "input": [
      "!ltl3ba -M0 -f {formula} > never3ba\n",
      "!cat never3ba"
     ],
     "language": "python",
     "metadata": {},
     "outputs": [
      {
       "output_type": "stream",
       "stream": "stdout",
       "text": [
        "never { /* G!G(ap0 -> Gap0) */\r\n",
        "T3_init:\r\n",
        "\tif\r\n",
        "\t:: (1) -> goto T1_S2\r\n",
        "\tfi;\r\n",
        "accept_S1:\r\n",
        "\tif\r\n",
        "\t:: (!ap0) -> goto T1_S2\r\n",
        "\t:: (1) -> goto T0_S3\r\n",
        "\tfi;\r\n",
        "T1_S2:\r\n",
        "\tif\r\n",
        "\t:: (ap0) -> goto accept_S1\r\n",
        "\t:: (1) -> goto T1_S2\r\n",
        "\tfi;\r\n",
        "T0_S3:\r\n",
        "\tif\r\n",
        "\t:: (!ap0) -> goto T1_S2\r\n",
        "\t:: (1) -> goto T0_S3\r\n",
        "\tfi;\r\n",
        "}\r\n"
       ]
      }
     ],
     "prompt_number": 6
    },
    {
     "cell_type": "code",
     "collapsed": false,
     "input": [
      "!cat never3ba | autfilt --dot | dot -Tsvg > never3ba.svg\n",
      "SVG(filename=\"never3ba.svg\")"
     ],
     "language": "python",
     "metadata": {},
     "outputs": [
      {
       "metadata": {},
       "output_type": "pyout",
       "prompt_number": 7,
       "svg": [
        "<svg height=\"88pt\" viewBox=\"0.00 0.00 422.00 88.00\" width=\"422pt\" xmlns=\"http://www.w3.org/2000/svg\" xmlns:xlink=\"http://www.w3.org/1999/xlink\">\n",
        "<g class=\"graph\" id=\"graph0\" transform=\"scale(1 1) rotate(0) translate(4 84)\">\n",
        "<title>G</title>\n",
        "<polygon fill=\"white\" points=\"-4,4 -4,-84 418,-84 418,4 -4,4\" stroke=\"none\"/>\n",
        "<!-- I -->\n",
        "<!-- 0 -->\n",
        "<g class=\"node\" id=\"node2\"><title>0</title>\n",
        "<ellipse cx=\"67\" cy=\"-29\" fill=\"none\" rx=\"27\" ry=\"18\" stroke=\"black\"/>\n",
        "<text font-family=\"Times,serif\" font-size=\"14.00\" text-anchor=\"middle\" x=\"67\" y=\"-25.3\">0</text>\n",
        "</g>\n",
        "<!-- I&#45;&gt;0 -->\n",
        "<g class=\"edge\" id=\"edge1\"><title>I-&gt;0</title>\n",
        "<path d=\"M2.04639,-29C2.91141,-29 15.7456,-29 29.6917,-29\" fill=\"none\" stroke=\"black\"/>\n",
        "<polygon fill=\"black\" points=\"29.888,-32.5001 39.888,-29 29.8879,-25.5001 29.888,-32.5001\" stroke=\"black\"/>\n",
        "</g>\n",
        "<!-- 1 -->\n",
        "<g class=\"node\" id=\"node3\"><title>1</title>\n",
        "<ellipse cx=\"165\" cy=\"-29\" fill=\"none\" rx=\"27\" ry=\"18\" stroke=\"black\"/>\n",
        "<text font-family=\"Times,serif\" font-size=\"14.00\" text-anchor=\"middle\" x=\"165\" y=\"-25.3\">1</text>\n",
        "</g>\n",
        "<!-- 0&#45;&gt;1 -->\n",
        "<g class=\"edge\" id=\"edge2\"><title>0-&gt;1</title>\n",
        "<path d=\"M94.2324,-29C104.498,-29 116.448,-29 127.527,-29\" fill=\"none\" stroke=\"black\"/>\n",
        "<polygon fill=\"black\" points=\"127.799,-32.5001 137.799,-29 127.799,-25.5001 127.799,-32.5001\" stroke=\"black\"/>\n",
        "<text font-family=\"Times,serif\" font-size=\"14.00\" text-anchor=\"middle\" x=\"116\" y=\"-32.8\">1</text>\n",
        "</g>\n",
        "<!-- 1&#45;&gt;1 -->\n",
        "<g class=\"edge\" id=\"edge4\"><title>1-&gt;1</title>\n",
        "<path d=\"M156.431,-46.4099C154.831,-56.0879 157.688,-65 165,-65 169.57,-65 172.4,-61.5187 173.489,-56.5449\" fill=\"none\" stroke=\"black\"/>\n",
        "<polygon fill=\"black\" points=\"176.99,-56.4374 173.569,-46.4099 169.99,-56.3818 176.99,-56.4374\" stroke=\"black\"/>\n",
        "<text font-family=\"Times,serif\" font-size=\"14.00\" text-anchor=\"middle\" x=\"165\" y=\"-68.8\">1</text>\n",
        "</g>\n",
        "<!-- 2 -->\n",
        "<g class=\"node\" id=\"node4\"><title>2</title>\n",
        "<ellipse cx=\"285\" cy=\"-51\" fill=\"none\" rx=\"27\" ry=\"18\" stroke=\"black\"/>\n",
        "<ellipse cx=\"285\" cy=\"-51\" fill=\"none\" rx=\"31\" ry=\"22\" stroke=\"black\"/>\n",
        "<text font-family=\"Times,serif\" font-size=\"14.00\" text-anchor=\"middle\" x=\"285\" y=\"-47.3\">2</text>\n",
        "</g>\n",
        "<!-- 1&#45;&gt;2 -->\n",
        "<g class=\"edge\" id=\"edge3\"><title>1-&gt;2</title>\n",
        "<path d=\"M188.493,-38.4906C195.293,-40.9999 202.853,-43.4404 210,-45 220.784,-47.3531 232.633,-48.8033 243.629,-49.6914\" fill=\"none\" stroke=\"black\"/>\n",
        "<polygon fill=\"black\" points=\"243.633,-53.1996 253.846,-50.3817 244.105,-46.2155 243.633,-53.1996\" stroke=\"black\"/>\n",
        "<text font-family=\"Times,serif\" font-size=\"14.00\" text-anchor=\"middle\" x=\"223\" y=\"-51.8\">ap0</text>\n",
        "</g>\n",
        "<!-- 2&#45;&gt;1 -->\n",
        "<g class=\"edge\" id=\"edge5\"><title>2-&gt;1</title>\n",
        "<path d=\"M261.455,-36.4237C253.702,-32.1967 244.761,-28.1449 236,-26 224.987,-23.3039 212.714,-22.9689 201.558,-23.633\" fill=\"none\" stroke=\"black\"/>\n",
        "<polygon fill=\"black\" points=\"200.939,-20.1736 191.282,-24.5314 201.549,-27.147 200.939,-20.1736\" stroke=\"black\"/>\n",
        "<text font-family=\"Times,serif\" font-size=\"14.00\" text-anchor=\"middle\" x=\"223\" y=\"-29.8\">!ap0</text>\n",
        "</g>\n",
        "<!-- 3 -->\n",
        "<g class=\"node\" id=\"node5\"><title>3</title>\n",
        "<ellipse cx=\"387\" cy=\"-18\" fill=\"none\" rx=\"27\" ry=\"18\" stroke=\"black\"/>\n",
        "<text font-family=\"Times,serif\" font-size=\"14.00\" text-anchor=\"middle\" x=\"387\" y=\"-14.3\">3</text>\n",
        "</g>\n",
        "<!-- 2&#45;&gt;3 -->\n",
        "<g class=\"edge\" id=\"edge6\"><title>2-&gt;3</title>\n",
        "<path d=\"M313.325,-41.9826C325.463,-37.9772 339.862,-33.2254 352.629,-29.0123\" fill=\"none\" stroke=\"black\"/>\n",
        "<polygon fill=\"black\" points=\"354.044,-32.2311 362.444,-25.7735 351.851,-25.5837 354.044,-32.2311\" stroke=\"black\"/>\n",
        "<text font-family=\"Times,serif\" font-size=\"14.00\" text-anchor=\"middle\" x=\"338\" y=\"-37.8\">1</text>\n",
        "</g>\n",
        "<!-- 3&#45;&gt;1 -->\n",
        "<g class=\"edge\" id=\"edge7\"><title>3-&gt;1</title>\n",
        "<path d=\"M361.209,-12.248C347.89,-9.44939 331.139,-6.39389 316,-5 288.56,-2.47365 281.312,-1.34246 254,-5 235.413,-7.48915 215.191,-12.8111 198.825,-17.8123\" fill=\"none\" stroke=\"black\"/>\n",
        "<polygon fill=\"black\" points=\"197.664,-14.5084 189.182,-20.8566 199.771,-21.1837 197.664,-14.5084\" stroke=\"black\"/>\n",
        "<text font-family=\"Times,serif\" font-size=\"14.00\" text-anchor=\"middle\" x=\"285\" y=\"-8.8\">!ap0</text>\n",
        "</g>\n",
        "<!-- 3&#45;&gt;3 -->\n",
        "<g class=\"edge\" id=\"edge8\"><title>3-&gt;3</title>\n",
        "<path d=\"M378.431,-35.4099C376.831,-45.0879 379.688,-54 387,-54 391.57,-54 394.4,-50.5187 395.489,-45.5449\" fill=\"none\" stroke=\"black\"/>\n",
        "<polygon fill=\"black\" points=\"398.99,-45.4374 395.569,-35.4099 391.99,-45.3818 398.99,-45.4374\" stroke=\"black\"/>\n",
        "<text font-family=\"Times,serif\" font-size=\"14.00\" text-anchor=\"middle\" x=\"387\" y=\"-57.8\">1</text>\n",
        "</g>\n",
        "</g>\n",
        "</svg>"
       ],
       "text": [
        "<IPython.core.display.SVG at 0x7f0dd074cd90>"
       ]
      }
     ],
     "prompt_number": 7
    },
    {
     "cell_type": "code",
     "collapsed": false,
     "input": [
      "!ltl2tgba -s -f {formula} > never2tgba\n",
      "!cat never2tgba | autfilt --dot | dot -Tsvg > never2tgba.svg"
     ],
     "language": "python",
     "metadata": {},
     "outputs": [],
     "prompt_number": 8
    },
    {
     "cell_type": "code",
     "collapsed": false,
     "input": [
      "!cat never2tgba\n",
      "SVG(filename=\"never2tgba.svg\")"
     ],
     "language": "python",
     "metadata": {},
     "outputs": [
      {
       "output_type": "stream",
       "stream": "stdout",
       "text": [
        "never { /* GF(ap0 & F!ap0) */\r\n",
        "T0_init:\r\n",
        "  if\r\n",
        "  :: ((!(ap0))) -> goto T0_init\r\n",
        "  :: ((ap0)) -> goto T0_S2\r\n",
        "  fi;\r\n",
        "accept_S0:\r\n",
        "  if\r\n",
        "  :: ((!(ap0))) -> goto T0_init\r\n",
        "  :: ((ap0)) -> goto T0_S2\r\n",
        "  fi;\r\n",
        "T0_S2:\r\n",
        "  if\r\n",
        "  :: ((!(ap0))) -> goto accept_S0\r\n",
        "  :: ((ap0)) -> goto T0_S2\r\n",
        "  fi;\r\n",
        "}\r\n"
       ]
      },
      {
       "metadata": {},
       "output_type": "pyout",
       "prompt_number": 9,
       "svg": [
        "<svg height=\"107pt\" viewBox=\"0.00 0.00 336.00 107.00\" width=\"336pt\" xmlns=\"http://www.w3.org/2000/svg\" xmlns:xlink=\"http://www.w3.org/1999/xlink\">\n",
        "<g class=\"graph\" id=\"graph0\" transform=\"scale(1 1) rotate(0) translate(4 103)\">\n",
        "<title>G</title>\n",
        "<polygon fill=\"white\" points=\"-4,4 -4,-103 332,-103 332,4 -4,4\" stroke=\"none\"/>\n",
        "<!-- I -->\n",
        "<!-- 0 -->\n",
        "<g class=\"node\" id=\"node2\"><title>0</title>\n",
        "<ellipse cx=\"67\" cy=\"-18\" fill=\"none\" rx=\"27\" ry=\"18\" stroke=\"black\"/>\n",
        "<text font-family=\"Times,serif\" font-size=\"14.00\" text-anchor=\"middle\" x=\"67\" y=\"-14.3\">0</text>\n",
        "</g>\n",
        "<!-- I&#45;&gt;0 -->\n",
        "<g class=\"edge\" id=\"edge1\"><title>I-&gt;0</title>\n",
        "<path d=\"M2.04639,-18C2.91141,-18 15.7456,-18 29.6917,-18\" fill=\"none\" stroke=\"black\"/>\n",
        "<polygon fill=\"black\" points=\"29.888,-21.5001 39.888,-18 29.8879,-14.5001 29.888,-21.5001\" stroke=\"black\"/>\n",
        "</g>\n",
        "<!-- 0&#45;&gt;0 -->\n",
        "<g class=\"edge\" id=\"edge2\"><title>0-&gt;0</title>\n",
        "<path d=\"M58.7877,-35.4099C57.2548,-45.0879 59.9922,-54 67,-54 71.3799,-54 74.0916,-50.5187 75.1353,-45.5449\" fill=\"none\" stroke=\"black\"/>\n",
        "<polygon fill=\"black\" points=\"78.6361,-45.4362 75.2123,-35.4099 71.6363,-45.383 78.6361,-45.4362\" stroke=\"black\"/>\n",
        "<text font-family=\"Times,serif\" font-size=\"14.00\" text-anchor=\"middle\" x=\"67\" y=\"-57.8\">!ap0</text>\n",
        "</g>\n",
        "<!-- 1 -->\n",
        "<g class=\"node\" id=\"node3\"><title>1</title>\n",
        "<ellipse cx=\"177\" cy=\"-48\" fill=\"none\" rx=\"27\" ry=\"18\" stroke=\"black\"/>\n",
        "<text font-family=\"Times,serif\" font-size=\"14.00\" text-anchor=\"middle\" x=\"177\" y=\"-44.3\">1</text>\n",
        "</g>\n",
        "<!-- 0&#45;&gt;1 -->\n",
        "<g class=\"edge\" id=\"edge3\"><title>0-&gt;1</title>\n",
        "<path d=\"M92.2373,-24.7326C106.967,-28.8242 125.993,-34.1092 142.189,-38.608\" fill=\"none\" stroke=\"black\"/>\n",
        "<polygon fill=\"black\" points=\"141.272,-41.9857 151.844,-41.2899 143.145,-35.2411 141.272,-41.9857\" stroke=\"black\"/>\n",
        "<text font-family=\"Times,serif\" font-size=\"14.00\" text-anchor=\"middle\" x=\"122\" y=\"-38.8\">ap0</text>\n",
        "</g>\n",
        "<!-- 1&#45;&gt;1 -->\n",
        "<g class=\"edge\" id=\"edge5\"><title>1-&gt;1</title>\n",
        "<path d=\"M167.431,-65.0373C165.478,-74.8579 168.668,-84 177,-84 182.208,-84 185.406,-80.4289 186.596,-75.3529\" fill=\"none\" stroke=\"black\"/>\n",
        "<polygon fill=\"black\" points=\"190.096,-75.0279 186.569,-65.0373 183.096,-75.0466 190.096,-75.0279\" stroke=\"black\"/>\n",
        "<text font-family=\"Times,serif\" font-size=\"14.00\" text-anchor=\"middle\" x=\"177\" y=\"-87.8\">ap0</text>\n",
        "</g>\n",
        "<!-- 2 -->\n",
        "<g class=\"node\" id=\"node4\"><title>2</title>\n",
        "<ellipse cx=\"297\" cy=\"-30\" fill=\"none\" rx=\"27\" ry=\"18\" stroke=\"black\"/>\n",
        "<ellipse cx=\"297\" cy=\"-30\" fill=\"none\" rx=\"31\" ry=\"22\" stroke=\"black\"/>\n",
        "<text font-family=\"Times,serif\" font-size=\"14.00\" text-anchor=\"middle\" x=\"297\" y=\"-26.3\">2</text>\n",
        "</g>\n",
        "<!-- 1&#45;&gt;2 -->\n",
        "<g class=\"edge\" id=\"edge4\"><title>1-&gt;2</title>\n",
        "<path d=\"M204.114,-49.0589C217.355,-49.1407 233.634,-48.5424 248,-46 251.926,-45.3052 255.969,-44.3538 259.964,-43.2586\" fill=\"none\" stroke=\"black\"/>\n",
        "<polygon fill=\"black\" points=\"261.148,-46.5569 269.701,-40.3043 259.116,-39.8584 261.148,-46.5569\" stroke=\"black\"/>\n",
        "<text font-family=\"Times,serif\" font-size=\"14.00\" text-anchor=\"middle\" x=\"235\" y=\"-51.8\">!ap0</text>\n",
        "</g>\n",
        "<!-- 2&#45;&gt;0 -->\n",
        "<g class=\"edge\" id=\"edge6\"><title>2-&gt;0</title>\n",
        "<path d=\"M268.583,-20.8838C250.479,-15.3547 226.103,-8.83555 204,-6 180.195,-2.94611 173.937,-4.25781 150,-6 134.642,-7.11778 117.794,-9.39825 103.386,-11.6739\" fill=\"none\" stroke=\"black\"/>\n",
        "<polygon fill=\"black\" points=\"102.684,-8.24216 93.3814,-13.3134 103.816,-15.15 102.684,-8.24216\" stroke=\"black\"/>\n",
        "<text font-family=\"Times,serif\" font-size=\"14.00\" text-anchor=\"middle\" x=\"177\" y=\"-9.8\">!ap0</text>\n",
        "</g>\n",
        "<!-- 2&#45;&gt;1 -->\n",
        "<g class=\"edge\" id=\"edge7\"><title>2-&gt;1</title>\n",
        "<path d=\"M266.507,-25.3008C252.819,-24.0087 236.421,-23.7349 222,-27 217.098,-28.1098 212.104,-29.8344 207.322,-31.829\" fill=\"none\" stroke=\"black\"/>\n",
        "<polygon fill=\"black\" points=\"205.509,-28.8118 197.907,-36.1918 208.452,-35.1631 205.509,-28.8118\" stroke=\"black\"/>\n",
        "<text font-family=\"Times,serif\" font-size=\"14.00\" text-anchor=\"middle\" x=\"235\" y=\"-30.8\">ap0</text>\n",
        "</g>\n",
        "</g>\n",
        "</svg>"
       ],
       "text": [
        "<IPython.core.display.SVG at 0x7f0dc93a4910>"
       ]
      }
     ],
     "prompt_number": 9
    },
    {
     "cell_type": "heading",
     "level": 3,
     "metadata": {},
     "source": [
      "Preparing the neverclaims for use with Spin"
     ]
    },
    {
     "cell_type": "code",
     "collapsed": false,
     "input": [
      "for fname in [\"never3ba\",\"never2tgba\"]:\n",
      "    !sed -i '1i #define ap0 (leaders_num==1)' {fname}\n",
      "    !echo {fname}:\n",
      "    !cat {fname}"
     ],
     "language": "python",
     "metadata": {},
     "outputs": [
      {
       "output_type": "stream",
       "stream": "stdout",
       "text": [
        "never3ba:\r\n"
       ]
      },
      {
       "output_type": "stream",
       "stream": "stdout",
       "text": [
        "#define ap0 (leaders_num==1)\r\n",
        "never { /* G!G(ap0 -> Gap0) */\r\n",
        "T3_init:\r\n",
        "\tif\r\n",
        "\t:: (1) -> goto T1_S2\r\n",
        "\tfi;\r\n",
        "accept_S1:\r\n",
        "\tif\r\n",
        "\t:: (!ap0) -> goto T1_S2\r\n",
        "\t:: (1) -> goto T0_S3\r\n",
        "\tfi;\r\n",
        "T1_S2:\r\n",
        "\tif\r\n",
        "\t:: (ap0) -> goto accept_S1\r\n",
        "\t:: (1) -> goto T1_S2\r\n",
        "\tfi;\r\n",
        "T0_S3:\r\n",
        "\tif\r\n",
        "\t:: (!ap0) -> goto T1_S2\r\n",
        "\t:: (1) -> goto T0_S3\r\n",
        "\tfi;\r\n",
        "}\r\n"
       ]
      },
      {
       "output_type": "stream",
       "stream": "stdout",
       "text": [
        "never2tgba:\r\n"
       ]
      },
      {
       "output_type": "stream",
       "stream": "stdout",
       "text": [
        "#define ap0 (leaders_num==1)\r\n",
        "never { /* GF(ap0 & F!ap0) */\r\n",
        "T0_init:\r\n",
        "  if\r\n",
        "  :: ((!(ap0))) -> goto T0_init\r\n",
        "  :: ((ap0)) -> goto T0_S2\r\n",
        "  fi;\r\n",
        "accept_S0:\r\n",
        "  if\r\n",
        "  :: ((!(ap0))) -> goto T0_init\r\n",
        "  :: ((ap0)) -> goto T0_S2\r\n",
        "  fi;\r\n",
        "T0_S2:\r\n",
        "  if\r\n",
        "  :: ((!(ap0))) -> goto accept_S0\r\n",
        "  :: ((ap0)) -> goto T0_S2\r\n",
        "  fi;\r\n",
        "}\r\n"
       ]
      }
     ],
     "prompt_number": 10
    },
    {
     "cell_type": "heading",
     "level": 3,
     "metadata": {},
     "source": [
      "Running Spin on the neverclaims"
     ]
    },
    {
     "cell_type": "code",
     "collapsed": false,
     "input": [
      "def run_spin(never):\n",
      "    !spin -a -N {never} {model}\n",
      "    !gcc -DMEMLIM=20480 -o pan pan.c\n",
      "    !./pan -a | grep error"
     ],
     "language": "python",
     "metadata": {},
     "outputs": [],
     "prompt_number": 11
    },
    {
     "cell_type": "code",
     "collapsed": false,
     "input": [
      "run_spin(\"never3ba\")"
     ],
     "language": "python",
     "metadata": {},
     "outputs": [
      {
       "output_type": "stream",
       "stream": "stdout",
       "text": [
        "State-vector 168 byte, depth reached 251, errors: 1\r\n"
       ]
      }
     ],
     "prompt_number": 12
    },
    {
     "cell_type": "code",
     "collapsed": false,
     "input": [
      "run_spin(\"never2tgba\")"
     ],
     "language": "python",
     "metadata": {},
     "outputs": [
      {
       "output_type": "stream",
       "stream": "stdout",
       "text": [
        "State-vector 168 byte, depth reached 286, errors: 0\r\n"
       ]
      }
     ],
     "prompt_number": 13
    },
    {
     "cell_type": "markdown",
     "metadata": {},
     "source": [
      "As we can see, the the results are different. Interestingly, ltlcross did not discover any fault in the automata produced by any of the tools. And my manual analysis of the neverclaims (see the pictures) also results in \"neverclaims are correct\" (The formula is equivalent to $\\mathsf{G}\\mathsf{F} ap_0 \\& \\mathsf{G}\\mathsf{F} \\neg ap_0$ in my opinion).\n",
      "\n",
      "The $ap_0$ is equivalent to `leaders_num==1` (see @Preparing the neverclaims for Spin). When we grep it from the model, we can see that it is only initialized to `0` at the beggining of the file, and then can be only increased by one."
     ]
    },
    {
     "cell_type": "code",
     "collapsed": false,
     "input": [
      "!cat extinction.2.pm | grep leaders_num"
     ],
     "language": "python",
     "metadata": {},
     "outputs": [
      {
       "output_type": "stream",
       "stream": "stdout",
       "text": [
        "byte leaders_num=0;\r\n",
        "::  d_step {lrec==1 && win==0;leaders_num = leaders_num+1;}  goto leader; \r\n",
        "::  d_step {lrec==2 && win==1;leaders_num = leaders_num+1;}  goto leader; \r\n",
        "::  d_step {lrec==1 && win==2;leaders_num = leaders_num+1;}  goto leader; \r\n"
       ]
      }
     ],
     "prompt_number": 14
    },
    {
     "cell_type": "code",
     "collapsed": false,
     "input": [
      "!head -n1 extinction.2.pm"
     ],
     "language": "python",
     "metadata": {},
     "outputs": [
      {
       "output_type": "stream",
       "stream": "stdout",
       "text": [
        "byte leaders_num=0;\r\n"
       ]
      }
     ],
     "prompt_number": 15
    },
    {
     "cell_type": "markdown",
     "metadata": {},
     "source": [
      "Therefore, there should be an empty product of the neverclaims and the system. After $ap_0$ is once `true` and `false` afterwards, it should never become `true` again."
     ]
    }
   ],
   "metadata": {}
  }
 ]
}