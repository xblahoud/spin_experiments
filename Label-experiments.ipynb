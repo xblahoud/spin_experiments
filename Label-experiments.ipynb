{
 "metadata": {
  "name": "",
  "signature": "sha256:62f4f3b57c29cea0b7a4b5e3a243b229ba4476a8220fe50a035557b98320a85d"
 },
 "nbformat": 3,
 "nbformat_minor": 0,
 "worksheets": [
  {
   "cells": [
    {
     "cell_type": "heading",
     "level": 1,
     "metadata": {},
     "source": [
      "The impact of labelstriping"
     ]
    },
    {
     "cell_type": "heading",
     "level": 2,
     "metadata": {},
     "source": [
      "Inicialization"
     ]
    },
    {
     "cell_type": "code",
     "collapsed": false,
     "input": [
      "from IPython.display import display,SVG,Image\n",
      "import pandas as pd"
     ],
     "language": "python",
     "metadata": {},
     "outputs": [],
     "prompt_number": 99
    },
    {
     "cell_type": "code",
     "collapsed": false,
     "input": [
      "cd /home/xblahoud/spin_experiments/labels"
     ],
     "language": "python",
     "metadata": {},
     "outputs": [
      {
       "output_type": "stream",
       "stream": "stdout",
       "text": [
        "/home/xblahoud/spin_experiments/labels\n"
       ]
      }
     ],
     "prompt_number": 100
    },
    {
     "cell_type": "code",
     "collapsed": false,
     "input": [
      "def clean():\n",
      "    !rm *.h *.m *.p *.t *.c *.b *.dot *.svg *.res* ltlstrip labelstrip ltlstrip_diff_order nostrip 2>/dev/null"
     ],
     "language": "python",
     "metadata": {},
     "outputs": [],
     "prompt_number": 105
    },
    {
     "cell_type": "code",
     "collapsed": false,
     "input": [
      "clean()"
     ],
     "language": "python",
     "metadata": {},
     "outputs": [],
     "prompt_number": 106
    },
    {
     "cell_type": "code",
     "collapsed": false,
     "input": [
      "ls"
     ],
     "language": "python",
     "metadata": {},
     "outputs": [
      {
       "output_type": "stream",
       "stream": "stdout",
       "text": [
        "analysis  elevator.4.pm  labelstrip.never  ltlstrip_diff_order.never  ltlstrip.never  nostrip.never\r\n"
       ]
      }
     ],
     "prompt_number": 107
    },
    {
     "cell_type": "code",
     "collapsed": false,
     "input": [
      "ls_model = !ls *.pm\n",
      "model = ls_model[0]\n",
      "neverclaims = !ls *.never\n",
      "names = [never.split('.')[0] for never in neverclaims]"
     ],
     "language": "python",
     "metadata": {},
     "outputs": [],
     "prompt_number": 108
    },
    {
     "cell_type": "heading",
     "level": 2,
     "metadata": {},
     "source": [
      "Prepare the sources using Spin"
     ]
    },
    {
     "cell_type": "markdown",
     "metadata": {},
     "source": [
      "* removes previously generated files\n",
      "* runs Spin on neverclaim and generates pan.? files\n",
      "* renames pan.? files to name.?"
     ]
    },
    {
     "cell_type": "code",
     "collapsed": false,
     "input": [
      "def clean_one(name):\n",
      "    for ext in [\"\",\".h\",\".m\",\".p\",\".t\",\".c\",\".b\",\".dot\",\".res*\"]:\n",
      "        to_remove = name + ext\n",
      "        !rm $to_remove 2> /dev/null"
     ],
     "language": "python",
     "metadata": {},
     "outputs": [],
     "prompt_number": 109
    },
    {
     "cell_type": "code",
     "collapsed": false,
     "input": [
      "def run_spin(name):\n",
      "    clean_one(name)\n",
      "    never = name + '.never'\n",
      "    !spin -a -N $never $model\n",
      "    !gcc -DMEMLIM=20480 -o pan pan.c\n",
      "    !rename 's/pan/$name/' pan*\n",
      "    #!ls $name\\.*"
     ],
     "language": "python",
     "metadata": {},
     "outputs": [],
     "prompt_number": 110
    },
    {
     "cell_type": "code",
     "collapsed": false,
     "input": [
      "clean()\n",
      "for name in names:\n",
      "    run_spin(name)"
     ],
     "language": "python",
     "metadata": {},
     "outputs": [],
     "prompt_number": 113
    },
    {
     "cell_type": "code",
     "collapsed": false,
     "input": [
      "ls"
     ],
     "language": "python",
     "metadata": {},
     "outputs": [
      {
       "output_type": "stream",
       "stream": "stdout",
       "text": [
        "analysis       labelstrip.b  labelstrip.m      labelstrip.t  ltlstrip.c             ltlstrip_diff_order.c  ltlstrip_diff_order.never  ltlstrip.h      ltlstrip.p  nostrip.b  nostrip.m      nostrip.t\r\n",
        "elevator.4.pm  labelstrip.c  labelstrip.never  \u001b[0m\u001b[01;32mltlstrip\u001b[0m*     \u001b[01;32mltlstrip_diff_order\u001b[0m*   ltlstrip_diff_order.h  ltlstrip_diff_order.p      ltlstrip.m      ltlstrip.t  nostrip.c  nostrip.never\r\n",
        "\u001b[01;32mlabelstrip\u001b[0m*    labelstrip.h  labelstrip.p      ltlstrip.b    ltlstrip_diff_order.b  ltlstrip_diff_order.m  ltlstrip_diff_order.t      ltlstrip.never  \u001b[01;32mnostrip\u001b[0m*    nostrip.h  nostrip.p\r\n"
       ]
      }
     ],
     "prompt_number": 114
    },
    {
     "cell_type": "heading",
     "level": 2,
     "metadata": {},
     "source": [
      "Run the analyzers"
     ]
    },
    {
     "cell_type": "code",
     "collapsed": false,
     "input": [
      "times = {}"
     ],
     "language": "python",
     "metadata": {},
     "outputs": []
    },
    {
     "cell_type": "code",
     "collapsed": false,
     "input": [
      "def init_times(lnames = names, d_times = {}):\n",
      "    d_times.clear()\n",
      "    for name in lnames:\n",
      "        d_times[name] = []\n",
      "    return d_times"
     ],
     "language": "python",
     "metadata": {},
     "outputs": [],
     "prompt_number": 80
    },
    {
     "cell_type": "code",
     "collapsed": false,
     "input": [
      "def run_pan(name, runs,d_times=times):\n",
      "    resnames = [name + '.res' + str(x) for x in range(runs)]\n",
      "    for res in resnames:\n",
      "        !rm $res 2> /dev/null\n",
      "        print res\n",
      "        !./$name -a -m100000000 > $res\n",
      "        time = !tail $res | grep 'elapsed' | sed 's/.*elapsed time \\([0-9]\\+.*\\) sec.*/\\1/'\n",
      "        print time\n",
      "        d_times[name].append(time[0])"
     ],
     "language": "python",
     "metadata": {},
     "outputs": [],
     "prompt_number": 72
    },
    {
     "cell_type": "heading",
     "level": 3,
     "metadata": {},
     "source": [
      "Experiment #1, all"
     ]
    },
    {
     "cell_type": "markdown",
     "metadata": {},
     "source": [
      "* all neverclaims used\n",
      "* 10 repetitions"
     ]
    },
    {
     "cell_type": "code",
     "collapsed": false,
     "input": [
      "init_times()\n",
      "for name in names:\n",
      "    run_pan(name, 10)"
     ],
     "language": "python",
     "metadata": {},
     "outputs": [],
     "prompt_number": 34
    },
    {
     "cell_type": "code",
     "collapsed": false,
     "input": [
      "df1 = pd.DataFrame(times)\n",
      "print df1.median()\n",
      "df1"
     ],
     "language": "python",
     "metadata": {},
     "outputs": [
      {
       "output_type": "stream",
       "stream": "stdout",
       "text": [
        "Series([], dtype: float64)\n"
       ]
      },
      {
       "html": [
        "<div style=\"max-height:1000px;max-width:1500px;overflow:auto;\">\n",
        "<table border=\"1\" class=\"dataframe\">\n",
        "  <tbody>\n",
        "    <tr>\n",
        "      <td>Index([], dtype='object')</td>\n",
        "      <td>Empty DataFrame</td>\n",
        "    </tr>\n",
        "  </tbody>\n",
        "</table>\n",
        "<p>0 rows \u00d7 0 columns</p>\n",
        "</div>"
       ],
       "metadata": {},
       "output_type": "pyout",
       "prompt_number": 115,
       "text": [
        "Empty DataFrame\n",
        "Columns: []\n",
        "Index: []\n",
        "\n",
        "[0 rows x 0 columns]"
       ]
      }
     ],
     "prompt_number": 115
    },
    {
     "cell_type": "heading",
     "level": 3,
     "metadata": {},
     "source": [
      "Experiment #2: labelstrip vs. ltlstrip"
     ]
    },
    {
     "cell_type": "markdown",
     "metadata": {},
     "source": [
      "* 20 repetitions\n",
      "* laptop got very hot, that may have caused the long times around ltlstrip.res6-8\n",
      "* labelstrip seems to be slightly faster"
     ]
    },
    {
     "cell_type": "code",
     "collapsed": false,
     "input": [
      "t2 = {}\n",
      "init_times(lnames = ['labelstrip','ltlstrip'], d_times = t2)\n",
      "for name in ['labelstrip','ltlstrip']:\n",
      "    run_pan(name, 20,d_times = t2)"
     ],
     "language": "python",
     "metadata": {},
     "outputs": []
    },
    {
     "cell_type": "code",
     "collapsed": false,
     "input": [
      "df2 = pd.DataFrame(t2)\n",
      "print df2.median()\n",
      "df2"
     ],
     "language": "python",
     "metadata": {},
     "outputs": [
      {
       "output_type": "stream",
       "stream": "stdout",
       "text": [
        "labelstrip    19.35\n",
        "ltlstrip      19.60\n",
        "dtype: float64\n"
       ]
      },
      {
       "html": [
        "<div style=\"max-height:1000px;max-width:1500px;overflow:auto;\">\n",
        "<table border=\"1\" class=\"dataframe\">\n",
        "  <thead>\n",
        "    <tr style=\"text-align: right;\">\n",
        "      <th></th>\n",
        "      <th>labelstrip</th>\n",
        "      <th>ltlstrip</th>\n",
        "    </tr>\n",
        "  </thead>\n",
        "  <tbody>\n",
        "    <tr>\n",
        "      <th>0 </th>\n",
        "      <td> 19.8</td>\n",
        "      <td> 19.5</td>\n",
        "    </tr>\n",
        "    <tr>\n",
        "      <th>1 </th>\n",
        "      <td> 19.3</td>\n",
        "      <td> 19.5</td>\n",
        "    </tr>\n",
        "    <tr>\n",
        "      <th>2 </th>\n",
        "      <td> 19.3</td>\n",
        "      <td> 19.4</td>\n",
        "    </tr>\n",
        "    <tr>\n",
        "      <th>3 </th>\n",
        "      <td> 19.4</td>\n",
        "      <td> 20.3</td>\n",
        "    </tr>\n",
        "    <tr>\n",
        "      <th>4 </th>\n",
        "      <td> 19.3</td>\n",
        "      <td> 19.6</td>\n",
        "    </tr>\n",
        "    <tr>\n",
        "      <th>5 </th>\n",
        "      <td> 19.2</td>\n",
        "      <td>   24</td>\n",
        "    </tr>\n",
        "    <tr>\n",
        "      <th>6 </th>\n",
        "      <td> 19.5</td>\n",
        "      <td> 19.4</td>\n",
        "    </tr>\n",
        "    <tr>\n",
        "      <th>7 </th>\n",
        "      <td> 19.3</td>\n",
        "      <td> 20.6</td>\n",
        "    </tr>\n",
        "    <tr>\n",
        "      <th>8 </th>\n",
        "      <td> 19.5</td>\n",
        "      <td> 20.5</td>\n",
        "    </tr>\n",
        "    <tr>\n",
        "      <th>9 </th>\n",
        "      <td> 19.2</td>\n",
        "      <td> 20.5</td>\n",
        "    </tr>\n",
        "    <tr>\n",
        "      <th>10</th>\n",
        "      <td> 19.3</td>\n",
        "      <td> 19.5</td>\n",
        "    </tr>\n",
        "    <tr>\n",
        "      <th>11</th>\n",
        "      <td> 19.3</td>\n",
        "      <td> 19.4</td>\n",
        "    </tr>\n",
        "    <tr>\n",
        "      <th>12</th>\n",
        "      <td> 24.6</td>\n",
        "      <td> 19.5</td>\n",
        "    </tr>\n",
        "    <tr>\n",
        "      <th>13</th>\n",
        "      <td> 19.3</td>\n",
        "      <td> 19.6</td>\n",
        "    </tr>\n",
        "    <tr>\n",
        "      <th>14</th>\n",
        "      <td> 19.4</td>\n",
        "      <td> 19.9</td>\n",
        "    </tr>\n",
        "    <tr>\n",
        "      <th>15</th>\n",
        "      <td> 19.4</td>\n",
        "      <td> 19.9</td>\n",
        "    </tr>\n",
        "    <tr>\n",
        "      <th>16</th>\n",
        "      <td> 19.5</td>\n",
        "      <td> 19.9</td>\n",
        "    </tr>\n",
        "    <tr>\n",
        "      <th>17</th>\n",
        "      <td> 19.3</td>\n",
        "      <td> 19.5</td>\n",
        "    </tr>\n",
        "    <tr>\n",
        "      <th>18</th>\n",
        "      <td> 19.7</td>\n",
        "      <td> 25.3</td>\n",
        "    </tr>\n",
        "    <tr>\n",
        "      <th>19</th>\n",
        "      <td> 19.9</td>\n",
        "      <td> 19.4</td>\n",
        "    </tr>\n",
        "  </tbody>\n",
        "</table>\n",
        "<p>20 rows \u00d7 2 columns</p>\n",
        "</div>"
       ],
       "metadata": {},
       "output_type": "pyout",
       "prompt_number": 76,
       "text": [
        "   labelstrip ltlstrip\n",
        "0        19.8     19.5\n",
        "1        19.3     19.5\n",
        "2        19.3     19.4\n",
        "3        19.4     20.3\n",
        "4        19.3     19.6\n",
        "5        19.2       24\n",
        "6        19.5     19.4\n",
        "7        19.3     20.6\n",
        "8        19.5     20.5\n",
        "9        19.2     20.5\n",
        "10       19.3     19.5\n",
        "11       19.3     19.4\n",
        "12       24.6     19.5\n",
        "13       19.3     19.6\n",
        "14       19.4     19.9\n",
        "15       19.4     19.9\n",
        "16       19.5     19.9\n",
        "17       19.3     19.5\n",
        "18       19.7     25.3\n",
        "19       19.9     19.4\n",
        "\n",
        "[20 rows x 2 columns]"
       ]
      }
     ],
     "prompt_number": 76
    },
    {
     "cell_type": "heading",
     "level": 3,
     "metadata": {},
     "source": [
      "Experiments #3: ltlstrip vs. labelstrip"
     ]
    },
    {
     "cell_type": "markdown",
     "metadata": {},
     "source": [
      "* 20 repetitions\n",
      "* the order of tasks is reverse in contrast to exp \\#2, i.e. ltlstrip went first\n",
      "* again, labelstrip is faster"
     ]
    },
    {
     "cell_type": "code",
     "collapsed": false,
     "input": [
      "t3 = {}\n",
      "init_times(lnames = ['labelstrip','ltlstrip'], d_times = t3)\n",
      "for name in ['ltlstrip','labelstrip']:\n",
      "    run_pan(name, 20,d_times = t3)"
     ],
     "language": "python",
     "metadata": {},
     "outputs": []
    },
    {
     "cell_type": "code",
     "collapsed": false,
     "input": [
      "df3 = pd.DataFrame(t3)\n",
      "print df3.median()\n",
      "df3"
     ],
     "language": "python",
     "metadata": {},
     "outputs": [
      {
       "output_type": "stream",
       "stream": "stdout",
       "text": [
        "labelstrip    19.3\n",
        "ltlstrip      19.5\n",
        "dtype: float64\n"
       ]
      },
      {
       "html": [
        "<div style=\"max-height:1000px;max-width:1500px;overflow:auto;\">\n",
        "<table border=\"1\" class=\"dataframe\">\n",
        "  <thead>\n",
        "    <tr style=\"text-align: right;\">\n",
        "      <th></th>\n",
        "      <th>labelstrip</th>\n",
        "      <th>ltlstrip</th>\n",
        "    </tr>\n",
        "  </thead>\n",
        "  <tbody>\n",
        "    <tr>\n",
        "      <th>0 </th>\n",
        "      <td> 19.3</td>\n",
        "      <td> 19.7</td>\n",
        "    </tr>\n",
        "    <tr>\n",
        "      <th>1 </th>\n",
        "      <td> 19.3</td>\n",
        "      <td> 19.6</td>\n",
        "    </tr>\n",
        "    <tr>\n",
        "      <th>2 </th>\n",
        "      <td> 19.2</td>\n",
        "      <td> 19.4</td>\n",
        "    </tr>\n",
        "    <tr>\n",
        "      <th>3 </th>\n",
        "      <td> 19.2</td>\n",
        "      <td> 19.5</td>\n",
        "    </tr>\n",
        "    <tr>\n",
        "      <th>4 </th>\n",
        "      <td> 19.4</td>\n",
        "      <td> 19.6</td>\n",
        "    </tr>\n",
        "    <tr>\n",
        "      <th>5 </th>\n",
        "      <td> 19.2</td>\n",
        "      <td> 19.5</td>\n",
        "    </tr>\n",
        "    <tr>\n",
        "      <th>6 </th>\n",
        "      <td> 19.2</td>\n",
        "      <td> 19.7</td>\n",
        "    </tr>\n",
        "    <tr>\n",
        "      <th>7 </th>\n",
        "      <td> 19.3</td>\n",
        "      <td> 28.3</td>\n",
        "    </tr>\n",
        "    <tr>\n",
        "      <th>8 </th>\n",
        "      <td> 19.2</td>\n",
        "      <td> 19.5</td>\n",
        "    </tr>\n",
        "    <tr>\n",
        "      <th>9 </th>\n",
        "      <td> 19.3</td>\n",
        "      <td> 19.4</td>\n",
        "    </tr>\n",
        "    <tr>\n",
        "      <th>10</th>\n",
        "      <td> 19.3</td>\n",
        "      <td> 19.5</td>\n",
        "    </tr>\n",
        "    <tr>\n",
        "      <th>11</th>\n",
        "      <td> 19.2</td>\n",
        "      <td> 19.4</td>\n",
        "    </tr>\n",
        "    <tr>\n",
        "      <th>12</th>\n",
        "      <td> 19.2</td>\n",
        "      <td> 19.8</td>\n",
        "    </tr>\n",
        "    <tr>\n",
        "      <th>13</th>\n",
        "      <td> 19.2</td>\n",
        "      <td> 19.5</td>\n",
        "    </tr>\n",
        "    <tr>\n",
        "      <th>14</th>\n",
        "      <td> 19.2</td>\n",
        "      <td> 19.4</td>\n",
        "    </tr>\n",
        "    <tr>\n",
        "      <th>15</th>\n",
        "      <td> 19.5</td>\n",
        "      <td> 19.4</td>\n",
        "    </tr>\n",
        "    <tr>\n",
        "      <th>16</th>\n",
        "      <td> 19.9</td>\n",
        "      <td> 19.4</td>\n",
        "    </tr>\n",
        "    <tr>\n",
        "      <th>17</th>\n",
        "      <td> 19.6</td>\n",
        "      <td> 19.7</td>\n",
        "    </tr>\n",
        "    <tr>\n",
        "      <th>18</th>\n",
        "      <td> 19.5</td>\n",
        "      <td> 19.5</td>\n",
        "    </tr>\n",
        "    <tr>\n",
        "      <th>19</th>\n",
        "      <td> 19.5</td>\n",
        "      <td> 19.4</td>\n",
        "    </tr>\n",
        "  </tbody>\n",
        "</table>\n",
        "<p>20 rows \u00d7 2 columns</p>\n",
        "</div>"
       ],
       "metadata": {},
       "output_type": "pyout",
       "prompt_number": 78,
       "text": [
        "   labelstrip ltlstrip\n",
        "0        19.3     19.7\n",
        "1        19.3     19.6\n",
        "2        19.2     19.4\n",
        "3        19.2     19.5\n",
        "4        19.4     19.6\n",
        "5        19.2     19.5\n",
        "6        19.2     19.7\n",
        "7        19.3     28.3\n",
        "8        19.2     19.5\n",
        "9        19.3     19.4\n",
        "10       19.3     19.5\n",
        "11       19.2     19.4\n",
        "12       19.2     19.8\n",
        "13       19.2     19.5\n",
        "14       19.2     19.4\n",
        "15       19.5     19.4\n",
        "16       19.9     19.4\n",
        "17       19.6     19.7\n",
        "18       19.5     19.5\n",
        "19       19.5     19.4\n",
        "\n",
        "[20 rows x 2 columns]"
       ]
      }
     ],
     "prompt_number": 78
    },
    {
     "cell_type": "heading",
     "level": 3,
     "metadata": {},
     "source": [
      "Experiment #4"
     ]
    },
    {
     "cell_type": "markdown",
     "metadata": {},
     "source": [
      "* all tools\n",
      "* interleaved -- all tools run once, than goes another round\n",
      "* 10 repetitions"
     ]
    },
    {
     "cell_type": "code",
     "collapsed": false,
     "input": [
      "t4 = init_times()\n",
      "print t4\n",
      "for i in range(10):\n",
      "    for name in names:\n",
      "        run_pan(name,1,t4)"
     ],
     "language": "python",
     "metadata": {},
     "outputs": [
      {
       "output_type": "stream",
       "stream": "stdout",
       "text": [
        "{'labelstrip': [], 'ltlstrip_diff_order': [], 'ltlstrip': [], 'nostrip': []}\n"
       ]
      },
      {
       "output_type": "stream",
       "stream": "stdout",
       "text": [
        "labelstrip.res0\n"
       ]
      },
      {
       "output_type": "stream",
       "stream": "stdout",
       "text": [
        "['19.9']\n"
       ]
      },
      {
       "output_type": "stream",
       "stream": "stdout",
       "text": [
        "ltlstrip_diff_order.res0\n"
       ]
      },
      {
       "output_type": "stream",
       "stream": "stdout",
       "text": [
        "['9.94']\n"
       ]
      },
      {
       "output_type": "stream",
       "stream": "stdout",
       "text": [
        "ltlstrip.res0\n"
       ]
      },
      {
       "output_type": "stream",
       "stream": "stdout",
       "text": [
        "['20.7']\n"
       ]
      },
      {
       "output_type": "stream",
       "stream": "stdout",
       "text": [
        "nostrip.res0\n"
       ]
      },
      {
       "output_type": "stream",
       "stream": "stdout",
       "text": [
        "['9.86']\n"
       ]
      },
      {
       "output_type": "stream",
       "stream": "stdout",
       "text": [
        "labelstrip.res0\n"
       ]
      },
      {
       "output_type": "stream",
       "stream": "stdout",
       "text": [
        "['19.4']\n"
       ]
      },
      {
       "output_type": "stream",
       "stream": "stdout",
       "text": [
        "ltlstrip_diff_order.res0\n"
       ]
      },
      {
       "output_type": "stream",
       "stream": "stdout",
       "text": [
        "['9.85']\n"
       ]
      },
      {
       "output_type": "stream",
       "stream": "stdout",
       "text": [
        "ltlstrip.res0\n"
       ]
      },
      {
       "output_type": "stream",
       "stream": "stdout",
       "text": [
        "['20.3']\n"
       ]
      },
      {
       "output_type": "stream",
       "stream": "stdout",
       "text": [
        "nostrip.res0\n"
       ]
      },
      {
       "output_type": "stream",
       "stream": "stdout",
       "text": [
        "['9.82']\n"
       ]
      },
      {
       "output_type": "stream",
       "stream": "stdout",
       "text": [
        "labelstrip.res0\n"
       ]
      },
      {
       "output_type": "stream",
       "stream": "stdout",
       "text": [
        "['19.5']\n"
       ]
      },
      {
       "output_type": "stream",
       "stream": "stdout",
       "text": [
        "ltlstrip_diff_order.res0\n"
       ]
      },
      {
       "output_type": "stream",
       "stream": "stdout",
       "text": [
        "['9.94']\n"
       ]
      },
      {
       "output_type": "stream",
       "stream": "stdout",
       "text": [
        "ltlstrip.res0\n"
       ]
      },
      {
       "output_type": "stream",
       "stream": "stdout",
       "text": [
        "['19.9']\n"
       ]
      },
      {
       "output_type": "stream",
       "stream": "stdout",
       "text": [
        "nostrip.res0\n"
       ]
      },
      {
       "output_type": "stream",
       "stream": "stdout",
       "text": [
        "['9.8']\n"
       ]
      },
      {
       "output_type": "stream",
       "stream": "stdout",
       "text": [
        "labelstrip.res0\n"
       ]
      },
      {
       "output_type": "stream",
       "stream": "stdout",
       "text": [
        "['19.5']\n"
       ]
      },
      {
       "output_type": "stream",
       "stream": "stdout",
       "text": [
        "ltlstrip_diff_order.res0\n"
       ]
      },
      {
       "output_type": "stream",
       "stream": "stdout",
       "text": [
        "['9.83']\n"
       ]
      },
      {
       "output_type": "stream",
       "stream": "stdout",
       "text": [
        "ltlstrip.res0\n"
       ]
      },
      {
       "output_type": "stream",
       "stream": "stdout",
       "text": [
        "['19.7']\n"
       ]
      },
      {
       "output_type": "stream",
       "stream": "stdout",
       "text": [
        "nostrip.res0\n"
       ]
      },
      {
       "output_type": "stream",
       "stream": "stdout",
       "text": [
        "['9.79']\n"
       ]
      },
      {
       "output_type": "stream",
       "stream": "stdout",
       "text": [
        "labelstrip.res0\n"
       ]
      },
      {
       "output_type": "stream",
       "stream": "stdout",
       "text": [
        "['19.6']\n"
       ]
      },
      {
       "output_type": "stream",
       "stream": "stdout",
       "text": [
        "ltlstrip_diff_order.res0\n"
       ]
      },
      {
       "output_type": "stream",
       "stream": "stdout",
       "text": [
        "['9.88']\n"
       ]
      },
      {
       "output_type": "stream",
       "stream": "stdout",
       "text": [
        "ltlstrip.res0\n"
       ]
      },
      {
       "output_type": "stream",
       "stream": "stdout",
       "text": [
        "['19.7']\n"
       ]
      },
      {
       "output_type": "stream",
       "stream": "stdout",
       "text": [
        "nostrip.res0\n"
       ]
      },
      {
       "output_type": "stream",
       "stream": "stdout",
       "text": [
        "['9.82']\n"
       ]
      },
      {
       "output_type": "stream",
       "stream": "stdout",
       "text": [
        "labelstrip.res0\n"
       ]
      },
      {
       "output_type": "stream",
       "stream": "stdout",
       "text": [
        "['19.5']\n"
       ]
      },
      {
       "output_type": "stream",
       "stream": "stdout",
       "text": [
        "ltlstrip_diff_order.res0\n"
       ]
      },
      {
       "output_type": "stream",
       "stream": "stdout",
       "text": [
        "['9.91']\n"
       ]
      },
      {
       "output_type": "stream",
       "stream": "stdout",
       "text": [
        "ltlstrip.res0\n"
       ]
      },
      {
       "output_type": "stream",
       "stream": "stdout",
       "text": [
        "['19.8']\n"
       ]
      },
      {
       "output_type": "stream",
       "stream": "stdout",
       "text": [
        "nostrip.res0\n"
       ]
      },
      {
       "output_type": "stream",
       "stream": "stdout",
       "text": [
        "['9.86']\n"
       ]
      },
      {
       "output_type": "stream",
       "stream": "stdout",
       "text": [
        "labelstrip.res0\n"
       ]
      },
      {
       "output_type": "stream",
       "stream": "stdout",
       "text": [
        "['19.7']\n"
       ]
      },
      {
       "output_type": "stream",
       "stream": "stdout",
       "text": [
        "ltlstrip_diff_order.res0\n"
       ]
      },
      {
       "output_type": "stream",
       "stream": "stdout",
       "text": [
        "['9.89']\n"
       ]
      },
      {
       "output_type": "stream",
       "stream": "stdout",
       "text": [
        "ltlstrip.res0\n"
       ]
      },
      {
       "output_type": "stream",
       "stream": "stdout",
       "text": [
        "['20']\n"
       ]
      },
      {
       "output_type": "stream",
       "stream": "stdout",
       "text": [
        "nostrip.res0\n"
       ]
      },
      {
       "output_type": "stream",
       "stream": "stdout",
       "text": [
        "['10']\n"
       ]
      },
      {
       "output_type": "stream",
       "stream": "stdout",
       "text": [
        "labelstrip.res0\n"
       ]
      },
      {
       "output_type": "stream",
       "stream": "stdout",
       "text": [
        "['19.5']\n"
       ]
      },
      {
       "output_type": "stream",
       "stream": "stdout",
       "text": [
        "ltlstrip_diff_order.res0\n"
       ]
      },
      {
       "output_type": "stream",
       "stream": "stdout",
       "text": [
        "['9.89']\n"
       ]
      },
      {
       "output_type": "stream",
       "stream": "stdout",
       "text": [
        "ltlstrip.res0\n"
       ]
      },
      {
       "output_type": "stream",
       "stream": "stdout",
       "text": [
        "['19.7']\n"
       ]
      },
      {
       "output_type": "stream",
       "stream": "stdout",
       "text": [
        "nostrip.res0\n"
       ]
      },
      {
       "output_type": "stream",
       "stream": "stdout",
       "text": [
        "['9.81']\n"
       ]
      },
      {
       "output_type": "stream",
       "stream": "stdout",
       "text": [
        "labelstrip.res0\n"
       ]
      },
      {
       "output_type": "stream",
       "stream": "stdout",
       "text": [
        "['19.5']\n"
       ]
      },
      {
       "output_type": "stream",
       "stream": "stdout",
       "text": [
        "ltlstrip_diff_order.res0\n"
       ]
      },
      {
       "output_type": "stream",
       "stream": "stdout",
       "text": [
        "['9.84']\n"
       ]
      },
      {
       "output_type": "stream",
       "stream": "stdout",
       "text": [
        "ltlstrip.res0\n"
       ]
      },
      {
       "output_type": "stream",
       "stream": "stdout",
       "text": [
        "['19.7']\n"
       ]
      },
      {
       "output_type": "stream",
       "stream": "stdout",
       "text": [
        "nostrip.res0\n"
       ]
      },
      {
       "output_type": "stream",
       "stream": "stdout",
       "text": [
        "['9.87']\n"
       ]
      },
      {
       "output_type": "stream",
       "stream": "stdout",
       "text": [
        "labelstrip.res0\n"
       ]
      },
      {
       "output_type": "stream",
       "stream": "stdout",
       "text": [
        "['19.5']\n"
       ]
      },
      {
       "output_type": "stream",
       "stream": "stdout",
       "text": [
        "ltlstrip_diff_order.res0\n"
       ]
      },
      {
       "output_type": "stream",
       "stream": "stdout",
       "text": [
        "['9.87']\n"
       ]
      },
      {
       "output_type": "stream",
       "stream": "stdout",
       "text": [
        "ltlstrip.res0\n"
       ]
      },
      {
       "output_type": "stream",
       "stream": "stdout",
       "text": [
        "['20.2']\n"
       ]
      },
      {
       "output_type": "stream",
       "stream": "stdout",
       "text": [
        "nostrip.res0\n"
       ]
      },
      {
       "output_type": "stream",
       "stream": "stdout",
       "text": [
        "['9.78']\n"
       ]
      },
      {
       "html": [
        "<div style=\"max-height:1000px;max-width:1500px;overflow:auto;\">\n",
        "<table border=\"1\" class=\"dataframe\">\n",
        "  <thead>\n",
        "    <tr style=\"text-align: right;\">\n",
        "      <th></th>\n",
        "      <th>labelstrip</th>\n",
        "      <th>ltlstrip</th>\n",
        "      <th>ltlstrip_diff_order</th>\n",
        "      <th>nostrip</th>\n",
        "    </tr>\n",
        "  </thead>\n",
        "  <tbody>\n",
        "    <tr>\n",
        "      <th>0</th>\n",
        "      <td> 19.9</td>\n",
        "      <td> 20.7</td>\n",
        "      <td> 9.94</td>\n",
        "      <td> 9.86</td>\n",
        "    </tr>\n",
        "    <tr>\n",
        "      <th>1</th>\n",
        "      <td> 19.4</td>\n",
        "      <td> 20.3</td>\n",
        "      <td> 9.85</td>\n",
        "      <td> 9.82</td>\n",
        "    </tr>\n",
        "    <tr>\n",
        "      <th>2</th>\n",
        "      <td> 19.5</td>\n",
        "      <td> 19.9</td>\n",
        "      <td> 9.94</td>\n",
        "      <td>  9.8</td>\n",
        "    </tr>\n",
        "    <tr>\n",
        "      <th>3</th>\n",
        "      <td> 19.5</td>\n",
        "      <td> 19.7</td>\n",
        "      <td> 9.83</td>\n",
        "      <td> 9.79</td>\n",
        "    </tr>\n",
        "    <tr>\n",
        "      <th>4</th>\n",
        "      <td> 19.6</td>\n",
        "      <td> 19.7</td>\n",
        "      <td> 9.88</td>\n",
        "      <td> 9.82</td>\n",
        "    </tr>\n",
        "    <tr>\n",
        "      <th>5</th>\n",
        "      <td> 19.5</td>\n",
        "      <td> 19.8</td>\n",
        "      <td> 9.91</td>\n",
        "      <td> 9.86</td>\n",
        "    </tr>\n",
        "    <tr>\n",
        "      <th>6</th>\n",
        "      <td> 19.7</td>\n",
        "      <td>   20</td>\n",
        "      <td> 9.89</td>\n",
        "      <td>   10</td>\n",
        "    </tr>\n",
        "    <tr>\n",
        "      <th>7</th>\n",
        "      <td> 19.5</td>\n",
        "      <td> 19.7</td>\n",
        "      <td> 9.89</td>\n",
        "      <td> 9.81</td>\n",
        "    </tr>\n",
        "    <tr>\n",
        "      <th>8</th>\n",
        "      <td> 19.5</td>\n",
        "      <td> 19.7</td>\n",
        "      <td> 9.84</td>\n",
        "      <td> 9.87</td>\n",
        "    </tr>\n",
        "    <tr>\n",
        "      <th>9</th>\n",
        "      <td> 19.5</td>\n",
        "      <td> 20.2</td>\n",
        "      <td> 9.87</td>\n",
        "      <td> 9.78</td>\n",
        "    </tr>\n",
        "  </tbody>\n",
        "</table>\n",
        "<p>10 rows \u00d7 4 columns</p>\n",
        "</div>"
       ],
       "metadata": {},
       "output_type": "pyout",
       "prompt_number": 87,
       "text": [
        "  labelstrip ltlstrip ltlstrip_diff_order nostrip\n",
        "0       19.9     20.7                9.94    9.86\n",
        "1       19.4     20.3                9.85    9.82\n",
        "2       19.5     19.9                9.94     9.8\n",
        "3       19.5     19.7                9.83    9.79\n",
        "4       19.6     19.7                9.88    9.82\n",
        "5       19.5     19.8                9.91    9.86\n",
        "6       19.7       20                9.89      10\n",
        "7       19.5     19.7                9.89    9.81\n",
        "8       19.5     19.7                9.84    9.87\n",
        "9       19.5     20.2                9.87    9.78\n",
        "\n",
        "[10 rows x 4 columns]"
       ]
      }
     ],
     "prompt_number": 87
    },
    {
     "cell_type": "code",
     "collapsed": false,
     "input": [
      "df4 = pd.DataFrame(t4)\n",
      "df4"
     ],
     "language": "python",
     "metadata": {},
     "outputs": [
      {
       "html": [
        "<div style=\"max-height:1000px;max-width:1500px;overflow:auto;\">\n",
        "<table border=\"1\" class=\"dataframe\">\n",
        "  <thead>\n",
        "    <tr style=\"text-align: right;\">\n",
        "      <th></th>\n",
        "      <th>labelstrip</th>\n",
        "      <th>ltlstrip</th>\n",
        "      <th>ltlstrip_diff_order</th>\n",
        "      <th>nostrip</th>\n",
        "    </tr>\n",
        "  </thead>\n",
        "  <tbody>\n",
        "    <tr>\n",
        "      <th>0</th>\n",
        "      <td> 19.9</td>\n",
        "      <td> 20.7</td>\n",
        "      <td> 9.94</td>\n",
        "      <td> 9.86</td>\n",
        "    </tr>\n",
        "    <tr>\n",
        "      <th>1</th>\n",
        "      <td> 19.4</td>\n",
        "      <td> 20.3</td>\n",
        "      <td> 9.85</td>\n",
        "      <td> 9.82</td>\n",
        "    </tr>\n",
        "    <tr>\n",
        "      <th>2</th>\n",
        "      <td> 19.5</td>\n",
        "      <td> 19.9</td>\n",
        "      <td> 9.94</td>\n",
        "      <td>  9.8</td>\n",
        "    </tr>\n",
        "    <tr>\n",
        "      <th>3</th>\n",
        "      <td> 19.5</td>\n",
        "      <td> 19.7</td>\n",
        "      <td> 9.83</td>\n",
        "      <td> 9.79</td>\n",
        "    </tr>\n",
        "    <tr>\n",
        "      <th>4</th>\n",
        "      <td> 19.6</td>\n",
        "      <td> 19.7</td>\n",
        "      <td> 9.88</td>\n",
        "      <td> 9.82</td>\n",
        "    </tr>\n",
        "    <tr>\n",
        "      <th>5</th>\n",
        "      <td> 19.5</td>\n",
        "      <td> 19.8</td>\n",
        "      <td> 9.91</td>\n",
        "      <td> 9.86</td>\n",
        "    </tr>\n",
        "    <tr>\n",
        "      <th>6</th>\n",
        "      <td> 19.7</td>\n",
        "      <td>   20</td>\n",
        "      <td> 9.89</td>\n",
        "      <td>   10</td>\n",
        "    </tr>\n",
        "    <tr>\n",
        "      <th>7</th>\n",
        "      <td> 19.5</td>\n",
        "      <td> 19.7</td>\n",
        "      <td> 9.89</td>\n",
        "      <td> 9.81</td>\n",
        "    </tr>\n",
        "    <tr>\n",
        "      <th>8</th>\n",
        "      <td> 19.5</td>\n",
        "      <td> 19.7</td>\n",
        "      <td> 9.84</td>\n",
        "      <td> 9.87</td>\n",
        "    </tr>\n",
        "    <tr>\n",
        "      <th>9</th>\n",
        "      <td> 19.5</td>\n",
        "      <td> 20.2</td>\n",
        "      <td> 9.87</td>\n",
        "      <td> 9.78</td>\n",
        "    </tr>\n",
        "  </tbody>\n",
        "</table>\n",
        "<p>10 rows \u00d7 4 columns</p>\n",
        "</div>"
       ],
       "metadata": {},
       "output_type": "pyout",
       "prompt_number": 88,
       "text": [
        "  labelstrip ltlstrip ltlstrip_diff_order nostrip\n",
        "0       19.9     20.7                9.94    9.86\n",
        "1       19.4     20.3                9.85    9.82\n",
        "2       19.5     19.9                9.94     9.8\n",
        "3       19.5     19.7                9.83    9.79\n",
        "4       19.6     19.7                9.88    9.82\n",
        "5       19.5     19.8                9.91    9.86\n",
        "6       19.7       20                9.89      10\n",
        "7       19.5     19.7                9.89    9.81\n",
        "8       19.5     19.7                9.84    9.87\n",
        "9       19.5     20.2                9.87    9.78\n",
        "\n",
        "[10 rows x 4 columns]"
       ]
      }
     ],
     "prompt_number": 88
    },
    {
     "cell_type": "heading",
     "level": 2,
     "metadata": {},
     "source": [
      "Display the automata"
     ]
    },
    {
     "cell_type": "code",
     "collapsed": false,
     "input": [
      "def never2dot(name):\n",
      "    nevername = name + \".never\"\n",
      "    dotname = name + \".dot\"\n",
      "    svgname = name + \".svg\"\n",
      "    with open(nevername,'r') as f:\n",
      "        neverclaim = f.read().split(\"elevator)\")[1];\n",
      "    with open(nevername + \".tmp\", 'w') as tmp:\n",
      "        tmp.write(neverclaim)\n",
      "    nevername = nevername + \".tmp\"\n",
      "    !~/Research/Tools/spot-1.2.5a/src/tgbatest/ltl2tgba -XN $nevername > $dotname;\n",
      "    !rm $nevername\n",
      "    svg = !dot -Tsvg $dotname > $svgname\n",
      "    return SVG(filename = svgname)"
     ],
     "language": "python",
     "metadata": {},
     "outputs": [],
     "prompt_number": 14
    },
    {
     "cell_type": "code",
     "collapsed": false,
     "input": [
      "never2dot(\"ltlstrip_diff_order\")"
     ],
     "language": "python",
     "metadata": {},
     "outputs": [
      {
       "metadata": {},
       "output_type": "pyout",
       "prompt_number": 15,
       "svg": [
        "<svg height=\"282pt\" viewBox=\"0.00 0.00 218.00 282.00\" width=\"218pt\" xmlns=\"http://www.w3.org/2000/svg\" xmlns:xlink=\"http://www.w3.org/1999/xlink\">\n",
        "<g class=\"graph\" id=\"graph0\" transform=\"scale(1 1) rotate(0) translate(4 278)\">\n",
        "<title>G</title>\n",
        "<polygon fill=\"white\" points=\"-4,4 -4,-278 214,-278 214,4 -4,4\" stroke=\"none\"/>\n",
        "<!-- 0 -->\n",
        "<!-- 1 -->\n",
        "<g class=\"node\" id=\"node2\"><title>1</title>\n",
        "<ellipse cx=\"50\" cy=\"-216\" fill=\"none\" rx=\"36.096\" ry=\"18\" stroke=\"black\"/>\n",
        "<text font-family=\"Times,serif\" font-size=\"14.00\" text-anchor=\"middle\" x=\"50\" y=\"-212.3\">T0_init</text>\n",
        "</g>\n",
        "<!-- 0&#45;&gt;1 -->\n",
        "<g class=\"edge\" id=\"edge1\"><title>0-&gt;1</title>\n",
        "<path d=\"M50,-271.842C50,-270.271 50,-257.223 50,-244.25\" fill=\"none\" stroke=\"black\"/>\n",
        "<polygon fill=\"black\" points=\"53.5001,-244.082 50,-234.082 46.5001,-244.082 53.5001,-244.082\" stroke=\"black\"/>\n",
        "</g>\n",
        "<!-- 1&#45;&gt;1 -->\n",
        "<g class=\"edge\" id=\"edge3\"><title>1-&gt;1</title>\n",
        "<path d=\"M83.75,-222.75C95,-222.75 104,-220.5 104,-216 104,-212.977 99.9373,-210.969 93.859,-209.977\" fill=\"none\" stroke=\"black\"/>\n",
        "<polygon fill=\"black\" points=\"93.9753,-206.476 83.75,-209.25 93.4733,-213.458 93.9753,-206.476\" stroke=\"black\"/>\n",
        "<text font-family=\"Times,serif\" font-size=\"14.00\" text-anchor=\"middle\" x=\"157\" y=\"-212.3\">!ap0 &amp; !ap1 &amp; ap2</text>\n",
        "</g>\n",
        "<!-- 2 -->\n",
        "<g class=\"node\" id=\"node3\"><title>2</title>\n",
        "<ellipse cx=\"50\" cy=\"-128\" fill=\"none\" rx=\"34.1708\" ry=\"18\" stroke=\"black\"/>\n",
        "<text font-family=\"Times,serif\" font-size=\"14.00\" text-anchor=\"middle\" x=\"50\" y=\"-124.3\">T0_S3</text>\n",
        "</g>\n",
        "<!-- 1&#45;&gt;2 -->\n",
        "<g class=\"edge\" id=\"edge2\"><title>1-&gt;2</title>\n",
        "<path d=\"M50,-197.597C50,-185.746 50,-169.817 50,-156.292\" fill=\"none\" stroke=\"black\"/>\n",
        "<polygon fill=\"black\" points=\"53.5001,-156.084 50,-146.084 46.5001,-156.084 53.5001,-156.084\" stroke=\"black\"/>\n",
        "<text font-family=\"Times,serif\" font-size=\"14.00\" text-anchor=\"middle\" x=\"83.5\" y=\"-168.3\">!ap0 &amp; !ap2</text>\n",
        "</g>\n",
        "<!-- 2&#45;&gt;2 -->\n",
        "<g class=\"edge\" id=\"edge4\"><title>2-&gt;2</title>\n",
        "<path d=\"M80.7043,-136.225C92.3595,-136.543 102,-133.801 102,-128 102,-124.012 97.4434,-121.47 90.8081,-120.373\" fill=\"none\" stroke=\"black\"/>\n",
        "<polygon fill=\"black\" points=\"90.8939,-116.872 80.7043,-119.775 90.4797,-123.86 90.8939,-116.872\" stroke=\"black\"/>\n",
        "<text font-family=\"Times,serif\" font-size=\"14.00\" text-anchor=\"middle\" x=\"155\" y=\"-124.3\">!ap0 &amp; ap1 &amp; !ap2</text>\n",
        "</g>\n",
        "<!-- 3 -->\n",
        "<g class=\"node\" id=\"node4\"><title>3</title>\n",
        "<ellipse cx=\"50\" cy=\"-22\" fill=\"none\" rx=\"46.2434\" ry=\"18\" stroke=\"black\"/>\n",
        "<ellipse cx=\"50\" cy=\"-22\" fill=\"none\" rx=\"50.1962\" ry=\"22\" stroke=\"black\"/>\n",
        "<text font-family=\"Times,serif\" font-size=\"14.00\" text-anchor=\"middle\" x=\"50\" y=\"-18.3\">accept_S2</text>\n",
        "</g>\n",
        "<!-- 2&#45;&gt;3 -->\n",
        "<g class=\"edge\" id=\"edge5\"><title>2-&gt;3</title>\n",
        "<path d=\"M27.0136,-114.631C18.8112,-108.922 10.495,-101.319 6,-92 0.207465,-79.9907 0.529331,-74.1593 6,-62 8.30352,-56.8801 11.6482,-52.16 15.4803,-47.9042\" fill=\"none\" stroke=\"black\"/>\n",
        "<polygon fill=\"black\" points=\"18.0835,-50.2539 22.785,-40.7593 13.1888,-45.2497 18.0835,-50.2539\" stroke=\"black\"/>\n",
        "<text font-family=\"Times,serif\" font-size=\"14.00\" text-anchor=\"middle\" x=\"39.5\" y=\"-73.3\">!ap0 &amp; !ap1</text>\n",
        "</g>\n",
        "<!-- 3&#45;&gt;2 -->\n",
        "<g class=\"edge\" id=\"edge6\"><title>3-&gt;2</title>\n",
        "<path d=\"M64.6024,-43.1256C68.0406,-48.9372 71.2202,-55.4784 73,-62 76.5104,-74.8629 76.8215,-79.226 73,-92 71.915,-95.6266 70.3201,-99.2257 68.4675,-102.659\" fill=\"none\" stroke=\"black\"/>\n",
        "<polygon fill=\"black\" points=\"65.4287,-100.918 63.1351,-111.261 71.3784,-104.606 65.4287,-100.918\" stroke=\"black\"/>\n",
        "<text font-family=\"Times,serif\" font-size=\"14.00\" text-anchor=\"middle\" x=\"128\" y=\"-80.8\">!ap0 &amp; ap1 &amp; !ap2</text>\n",
        "<text font-family=\"Times,serif\" font-size=\"14.00\" text-anchor=\"middle\" x=\"128\" y=\"-65.8\">{Acc[1]}</text>\n",
        "</g>\n",
        "<!-- 3&#45;&gt;3 -->\n",
        "<g class=\"edge\" id=\"edge7\"><title>3-&gt;3</title>\n",
        "<path d=\"M94.7974,-32.0947C107.872,-31.7458 118,-28.3809 118,-22 118,-17.4138 112.768,-14.3856 104.97,-12.9154\" fill=\"none\" stroke=\"black\"/>\n",
        "<polygon fill=\"black\" points=\"105.094,-9.41061 94.7974,-11.9053 104.403,-16.3763 105.094,-9.41061\" stroke=\"black\"/>\n",
        "<text font-family=\"Times,serif\" font-size=\"14.00\" text-anchor=\"middle\" x=\"151.5\" y=\"-25.8\">!ap0 &amp; !ap1</text>\n",
        "<text font-family=\"Times,serif\" font-size=\"14.00\" text-anchor=\"middle\" x=\"151.5\" y=\"-10.8\">{Acc[1]}</text>\n",
        "</g>\n",
        "</g>\n",
        "</svg>"
       ],
       "text": [
        "<IPython.core.display.SVG at 0x7f9ac11dad90>"
       ]
      }
     ],
     "prompt_number": 15
    },
    {
     "cell_type": "code",
     "collapsed": false,
     "input": [
      "never2dot(\"ltlstrip\")"
     ],
     "language": "python",
     "metadata": {},
     "outputs": [
      {
       "metadata": {},
       "output_type": "pyout",
       "prompt_number": 16,
       "svg": [
        "<svg height=\"282pt\" viewBox=\"0.00 0.00 236.00 282.00\" width=\"236pt\" xmlns=\"http://www.w3.org/2000/svg\" xmlns:xlink=\"http://www.w3.org/1999/xlink\">\n",
        "<g class=\"graph\" id=\"graph0\" transform=\"scale(1 1) rotate(0) translate(4 278)\">\n",
        "<title>G</title>\n",
        "<polygon fill=\"white\" points=\"-4,4 -4,-278 232.003,-278 232.003,4 -4,4\" stroke=\"none\"/>\n",
        "<!-- 0 -->\n",
        "<!-- 1 -->\n",
        "<g class=\"node\" id=\"node2\"><title>1</title>\n",
        "<ellipse cx=\"68.003\" cy=\"-216\" fill=\"none\" rx=\"36.096\" ry=\"18\" stroke=\"black\"/>\n",
        "<text font-family=\"Times,serif\" font-size=\"14.00\" text-anchor=\"middle\" x=\"68.003\" y=\"-212.3\">T0_init</text>\n",
        "</g>\n",
        "<!-- 0&#45;&gt;1 -->\n",
        "<g class=\"edge\" id=\"edge1\"><title>0-&gt;1</title>\n",
        "<path d=\"M68.003,-271.842C68.003,-270.271 68.003,-257.223 68.003,-244.25\" fill=\"none\" stroke=\"black\"/>\n",
        "<polygon fill=\"black\" points=\"71.5031,-244.082 68.003,-234.082 64.5031,-244.082 71.5031,-244.082\" stroke=\"black\"/>\n",
        "</g>\n",
        "<!-- 1&#45;&gt;1 -->\n",
        "<g class=\"edge\" id=\"edge3\"><title>1-&gt;1</title>\n",
        "<path d=\"M101.753,-222.75C113.003,-222.75 122.003,-220.5 122.003,-216 122.003,-212.977 117.94,-210.969 111.862,-209.977\" fill=\"none\" stroke=\"black\"/>\n",
        "<polygon fill=\"black\" points=\"111.978,-206.476 101.753,-209.25 111.476,-213.458 111.978,-206.476\" stroke=\"black\"/>\n",
        "<text font-family=\"Times,serif\" font-size=\"14.00\" text-anchor=\"middle\" x=\"175.003\" y=\"-212.3\">!ap0 &amp; !ap1 &amp; ap2</text>\n",
        "</g>\n",
        "<!-- 2 -->\n",
        "<g class=\"node\" id=\"node3\"><title>2</title>\n",
        "<ellipse cx=\"68.003\" cy=\"-124\" fill=\"none\" rx=\"46.2434\" ry=\"18\" stroke=\"black\"/>\n",
        "<ellipse cx=\"68.003\" cy=\"-124\" fill=\"none\" rx=\"50.1962\" ry=\"22\" stroke=\"black\"/>\n",
        "<text font-family=\"Times,serif\" font-size=\"14.00\" text-anchor=\"middle\" x=\"68.003\" y=\"-120.3\">accept_S2</text>\n",
        "</g>\n",
        "<!-- 1&#45;&gt;2 -->\n",
        "<g class=\"edge\" id=\"edge2\"><title>1-&gt;2</title>\n",
        "<path d=\"M68.003,-197.647C68.003,-185.924 68.003,-170.114 68.003,-156.237\" fill=\"none\" stroke=\"black\"/>\n",
        "<polygon fill=\"black\" points=\"71.5031,-156.101 68.003,-146.101 64.5031,-156.101 71.5031,-156.101\" stroke=\"black\"/>\n",
        "<text font-family=\"Times,serif\" font-size=\"14.00\" text-anchor=\"middle\" x=\"101.503\" y=\"-168.3\">!ap0 &amp; !ap2</text>\n",
        "</g>\n",
        "<!-- 2&#45;&gt;2 -->\n",
        "<g class=\"edge\" id=\"edge5\"><title>2-&gt;2</title>\n",
        "<path d=\"M114.087,-132.934C126.534,-132.462 136.003,-129.484 136.003,-124 136.003,-120.144 131.322,-117.527 124.215,-116.149\" fill=\"none\" stroke=\"black\"/>\n",
        "<polygon fill=\"black\" points=\"124.403,-112.649 114.087,-115.066 123.659,-119.609 124.403,-112.649\" stroke=\"black\"/>\n",
        "<text font-family=\"Times,serif\" font-size=\"14.00\" text-anchor=\"middle\" x=\"169.503\" y=\"-127.8\">!ap0 &amp; !ap1</text>\n",
        "<text font-family=\"Times,serif\" font-size=\"14.00\" text-anchor=\"middle\" x=\"169.503\" y=\"-112.8\">{Acc[1]}</text>\n",
        "</g>\n",
        "<!-- 3 -->\n",
        "<g class=\"node\" id=\"node4\"><title>3</title>\n",
        "<ellipse cx=\"68.003\" cy=\"-18\" fill=\"none\" rx=\"34.1708\" ry=\"18\" stroke=\"black\"/>\n",
        "<text font-family=\"Times,serif\" font-size=\"14.00\" text-anchor=\"middle\" x=\"68.003\" y=\"-14.3\">T0_S3</text>\n",
        "</g>\n",
        "<!-- 2&#45;&gt;3 -->\n",
        "<g class=\"edge\" id=\"edge4\"><title>2-&gt;3</title>\n",
        "<path d=\"M31.3167,-108.604C20.9445,-102.628 10.8874,-94.5634 5.003,-84 -1.48559,-72.352 -1.7587,-65.4916 5.003,-54 10.6869,-44.3401 20.1068,-37.1551 29.9522,-31.8957\" fill=\"none\" stroke=\"black\"/>\n",
        "<polygon fill=\"black\" points=\"31.486,-35.042 39.0185,-27.5912 28.4838,-28.7184 31.486,-35.042\" stroke=\"black\"/>\n",
        "<text font-family=\"Times,serif\" font-size=\"14.00\" text-anchor=\"middle\" x=\"58.003\" y=\"-72.8\">!ap0 &amp; ap1 &amp; !ap2</text>\n",
        "<text font-family=\"Times,serif\" font-size=\"14.00\" text-anchor=\"middle\" x=\"58.003\" y=\"-57.8\">{Acc[1]}</text>\n",
        "</g>\n",
        "<!-- 3&#45;&gt;2 -->\n",
        "<g class=\"edge\" id=\"edge7\"><title>3-&gt;2</title>\n",
        "<path d=\"M90.933,-31.8024C98.802,-37.4876 106.705,-44.9591 111.003,-54 116.728,-66.0417 116.404,-71.8096 111.003,-84 108.758,-89.068 105.492,-93.7585 101.749,-97.9997\" fill=\"none\" stroke=\"black\"/>\n",
        "<polygon fill=\"black\" points=\"99.2101,-95.5886 94.6113,-105.133 104.159,-100.54 99.2101,-95.5886\" stroke=\"black\"/>\n",
        "<text font-family=\"Times,serif\" font-size=\"14.00\" text-anchor=\"middle\" x=\"148.503\" y=\"-65.3\">!ap0 &amp; !ap1</text>\n",
        "</g>\n",
        "<!-- 3&#45;&gt;3 -->\n",
        "<g class=\"edge\" id=\"edge6\"><title>3-&gt;3</title>\n",
        "<path d=\"M97.4044,-27.2926C109.635,-27.9335 120.003,-24.8359 120.003,-18 120.003,-13.1935 114.877,-10.2352 107.582,-9.12507\" fill=\"none\" stroke=\"black\"/>\n",
        "<polygon fill=\"black\" points=\"107.539,-5.62046 97.4044,-8.7074 107.252,-12.6146 107.539,-5.62046\" stroke=\"black\"/>\n",
        "<text font-family=\"Times,serif\" font-size=\"14.00\" text-anchor=\"middle\" x=\"173.003\" y=\"-14.3\">!ap0 &amp; ap1 &amp; !ap2</text>\n",
        "</g>\n",
        "</g>\n",
        "</svg>"
       ],
       "text": [
        "<IPython.core.display.SVG at 0x7f9ac11da910>"
       ]
      }
     ],
     "prompt_number": 16
    },
    {
     "cell_type": "code",
     "collapsed": false,
     "input": [
      "never2dot(\"labelstrip\")"
     ],
     "language": "python",
     "metadata": {},
     "outputs": [
      {
       "metadata": {},
       "output_type": "pyout",
       "prompt_number": 17,
       "svg": [
        "<svg height=\"282pt\" viewBox=\"0.00 0.00 178.00 282.00\" width=\"178pt\" xmlns=\"http://www.w3.org/2000/svg\" xmlns:xlink=\"http://www.w3.org/1999/xlink\">\n",
        "<g class=\"graph\" id=\"graph0\" transform=\"scale(1 1) rotate(0) translate(4 278)\">\n",
        "<title>G</title>\n",
        "<polygon fill=\"white\" points=\"-4,4 -4,-278 174,-278 174,4 -4,4\" stroke=\"none\"/>\n",
        "<!-- 0 -->\n",
        "<!-- 1 -->\n",
        "<g class=\"node\" id=\"node2\"><title>1</title>\n",
        "<ellipse cx=\"50\" cy=\"-216\" fill=\"none\" rx=\"36.096\" ry=\"18\" stroke=\"black\"/>\n",
        "<text font-family=\"Times,serif\" font-size=\"14.00\" text-anchor=\"middle\" x=\"50\" y=\"-212.3\">T0_init</text>\n",
        "</g>\n",
        "<!-- 0&#45;&gt;1 -->\n",
        "<g class=\"edge\" id=\"edge1\"><title>0-&gt;1</title>\n",
        "<path d=\"M50,-271.842C50,-270.271 50,-257.223 50,-244.25\" fill=\"none\" stroke=\"black\"/>\n",
        "<polygon fill=\"black\" points=\"53.5001,-244.082 50,-234.082 46.5001,-244.082 53.5001,-244.082\" stroke=\"black\"/>\n",
        "</g>\n",
        "<!-- 1&#45;&gt;1 -->\n",
        "<g class=\"edge\" id=\"edge3\"><title>1-&gt;1</title>\n",
        "<path d=\"M83.75,-222.75C95,-222.75 104,-220.5 104,-216 104,-212.977 99.9373,-210.969 93.859,-209.977\" fill=\"none\" stroke=\"black\"/>\n",
        "<polygon fill=\"black\" points=\"93.9753,-206.476 83.75,-209.25 93.4733,-213.458 93.9753,-206.476\" stroke=\"black\"/>\n",
        "<text font-family=\"Times,serif\" font-size=\"14.00\" text-anchor=\"middle\" x=\"114\" y=\"-212.3\">ap2</text>\n",
        "</g>\n",
        "<!-- 2 -->\n",
        "<g class=\"node\" id=\"node3\"><title>2</title>\n",
        "<ellipse cx=\"50\" cy=\"-124\" fill=\"none\" rx=\"46.2434\" ry=\"18\" stroke=\"black\"/>\n",
        "<ellipse cx=\"50\" cy=\"-124\" fill=\"none\" rx=\"50.1962\" ry=\"22\" stroke=\"black\"/>\n",
        "<text font-family=\"Times,serif\" font-size=\"14.00\" text-anchor=\"middle\" x=\"50\" y=\"-120.3\">accept_S2</text>\n",
        "</g>\n",
        "<!-- 1&#45;&gt;2 -->\n",
        "<g class=\"edge\" id=\"edge2\"><title>1-&gt;2</title>\n",
        "<path d=\"M50,-197.647C50,-185.924 50,-170.114 50,-156.237\" fill=\"none\" stroke=\"black\"/>\n",
        "<polygon fill=\"black\" points=\"53.5001,-156.101 50,-146.101 46.5001,-156.101 53.5001,-156.101\" stroke=\"black\"/>\n",
        "<text font-family=\"Times,serif\" font-size=\"14.00\" text-anchor=\"middle\" x=\"60\" y=\"-168.3\">ap1</text>\n",
        "</g>\n",
        "<!-- 2&#45;&gt;2 -->\n",
        "<g class=\"edge\" id=\"edge5\"><title>2-&gt;2</title>\n",
        "<path d=\"M96.0842,-132.934C108.531,-132.462 118,-129.484 118,-124 118,-120.144 113.319,-117.527 106.212,-116.149\" fill=\"none\" stroke=\"black\"/>\n",
        "<polygon fill=\"black\" points=\"106.4,-112.649 96.0842,-115.066 105.656,-119.609 106.4,-112.649\" stroke=\"black\"/>\n",
        "<text font-family=\"Times,serif\" font-size=\"14.00\" text-anchor=\"middle\" x=\"144\" y=\"-127.8\">ap2</text>\n",
        "<text font-family=\"Times,serif\" font-size=\"14.00\" text-anchor=\"middle\" x=\"144\" y=\"-112.8\">{Acc[1]}</text>\n",
        "</g>\n",
        "<!-- 3 -->\n",
        "<g class=\"node\" id=\"node4\"><title>3</title>\n",
        "<ellipse cx=\"50\" cy=\"-18\" fill=\"none\" rx=\"34.1708\" ry=\"18\" stroke=\"black\"/>\n",
        "<text font-family=\"Times,serif\" font-size=\"14.00\" text-anchor=\"middle\" x=\"50\" y=\"-14.3\">T0_S3</text>\n",
        "</g>\n",
        "<!-- 2&#45;&gt;3 -->\n",
        "<g class=\"edge\" id=\"edge4\"><title>2-&gt;3</title>\n",
        "<path d=\"M27.2761,-104.011C21.8952,-98.2034 16.8856,-91.3804 14,-84 9.14479,-71.5821 8.81094,-66.2822 14,-54 16.1627,-48.8811 19.4807,-44.1411 23.2446,-39.9089\" fill=\"none\" stroke=\"black\"/>\n",
        "<polygon fill=\"black\" points=\"25.7102,-42.393 30.3477,-32.867 20.7819,-37.4219 25.7102,-42.393\" stroke=\"black\"/>\n",
        "<text font-family=\"Times,serif\" font-size=\"14.00\" text-anchor=\"middle\" x=\"40\" y=\"-72.8\">ap1</text>\n",
        "<text font-family=\"Times,serif\" font-size=\"14.00\" text-anchor=\"middle\" x=\"40\" y=\"-57.8\">{Acc[1]}</text>\n",
        "</g>\n",
        "<!-- 3&#45;&gt;2 -->\n",
        "<g class=\"edge\" id=\"edge7\"><title>3-&gt;2</title>\n",
        "<path d=\"M59.3384,-35.5815C62.0443,-41.2442 64.6354,-47.7329 66,-54 68.8367,-67.0281 68.5791,-70.9185 66,-84 65.4293,-86.8945 64.6416,-89.8446 63.7194,-92.7608\" fill=\"none\" stroke=\"black\"/>\n",
        "<polygon fill=\"black\" points=\"60.3359,-91.8222 60.1856,-102.416 66.9095,-94.2282 60.3359,-91.8222\" stroke=\"black\"/>\n",
        "<text font-family=\"Times,serif\" font-size=\"14.00\" text-anchor=\"middle\" x=\"78\" y=\"-65.3\">ap2</text>\n",
        "</g>\n",
        "<!-- 3&#45;&gt;3 -->\n",
        "<g class=\"edge\" id=\"edge6\"><title>3-&gt;3</title>\n",
        "<path d=\"M79.4014,-27.2926C91.6322,-27.9335 102,-24.8359 102,-18 102,-13.1935 96.8743,-10.2352 89.5793,-9.12507\" fill=\"none\" stroke=\"black\"/>\n",
        "<polygon fill=\"black\" points=\"89.5365,-5.62046 79.4014,-8.7074 89.2494,-12.6146 89.5365,-5.62046\" stroke=\"black\"/>\n",
        "<text font-family=\"Times,serif\" font-size=\"14.00\" text-anchor=\"middle\" x=\"112\" y=\"-14.3\">ap1</text>\n",
        "</g>\n",
        "</g>\n",
        "</svg>"
       ],
       "text": [
        "<IPython.core.display.SVG at 0x7f9ac11dac50>"
       ]
      }
     ],
     "prompt_number": 17
    },
    {
     "cell_type": "heading",
     "level": 1,
     "metadata": {},
     "source": [
      "DIFFs"
     ]
    },
    {
     "cell_type": "markdown",
     "metadata": {},
     "source": [
      "* print names of automata\n",
      "* print diffs of relevant files, give names of the files\n",
      "* create function to run meld& ?"
     ]
    },
    {
     "cell_type": "code",
     "collapsed": false,
     "input": [
      "!diff ltlstrip.c labelstrip.c"
     ],
     "language": "python",
     "metadata": {},
     "outputs": [
      {
       "output_type": "stream",
       "stream": "stdout",
       "text": [
        "430,432c430,432\r\n",
        "< \t  0,   7,   7,   8,   8,   6,  10,  12, \r\n",
        "< \t 12,  13,  13,  11,  15,  17,  17,  18, \r\n",
        "< \t 18,  16,  20,  20,   0, };\r\n",
        "---\r\n",
        "> \t  0,   8,   8,   9,   9,   7,  11,  13, \r\n",
        "> \t 13,  14,  14,  12,  16,  18,  18,  19, \r\n",
        "> \t 19,  17,  21,  21,   0, };\r\n",
        "435c435\r\n",
        "< \t{ \"ltlstrip.never\", 1, 19 },\r\n",
        "---\r\n",
        "> \t{ \"labelstrip.never\", 1, 19 },\r\n",
        "1230d1229\r\n",
        "< \tvisstate[0][21] = 1;\r\n"
       ]
      }
     ],
     "prompt_number": 18
    },
    {
     "cell_type": "code",
     "collapsed": false,
     "input": [
      "def print_difs(name1,name2,exts = ['.c','.b','.t','.m','.p','.h']):\n",
      "    for ext in exts:\n",
      "        print 'diff ' + name1+ext + ' ' + name2+ext\n",
      "        !diff {name1}{ext} {name2}{ext}\n",
      "        \n",
      "def melds(name1,name2,exts = ['.c','.b','.t','.m','.p','.h']):\n",
      "    for ext in exts:\n",
      "        !meld {name1}{ext} {name2}{ext}"
     ],
     "language": "python",
     "metadata": {},
     "outputs": [],
     "prompt_number": 67
    },
    {
     "cell_type": "code",
     "collapsed": false,
     "input": [
      "print_difs('labelstrip','ltlstrip')\n",
      "melds('labelstrip','ltlstrip')"
     ],
     "language": "python",
     "metadata": {},
     "outputs": [
      {
       "output_type": "stream",
       "stream": "stdout",
       "text": [
        "diff labelstrip.c ltlstrip.c\n",
        "435c435\r\n",
        "< \t{ \"labelstrip.never\", 1, 19 },\r\n",
        "---\r\n",
        "> \t{ \"ltlstrip.never\", 1, 19 },\r\n",
        "1229a1230\r\n",
        "> \tvisstate[0][21] = 1;\r\n"
       ]
      },
      {
       "output_type": "stream",
       "stream": "stdout",
       "text": [
        "diff labelstrip.b ltlstrip.b\n"
       ]
      },
      {
       "output_type": "stream",
       "stream": "stdout",
       "text": [
        "diff labelstrip.t ltlstrip.t\n",
        "34c34\r\n",
        "< \ttrans[6][1]\t= settr(274,0,11,3,0,\"((Person_0._p==out))\", 1, 2, 0);\r\n",
        "---\r\n",
        "> \ttrans[6][1]\t= settr(274,0,11,3,0,\"((!((Person_0._p==waiting))&&!((Person_0._p==in_elevator))))\", 1, 2, 0);\r\n",
        "37c37\r\n",
        "< \ttrans[6][3]\t= settr(276,0,5,4,0,\"((Person_0._p==in_elevator))\", 1, 2, 0);\r\n",
        "---\r\n",
        "> \ttrans[6][3]\t= settr(276,0,5,4,0,\"(((!((Person_0._p==waiting))&&!((Person_0._p==out)))&&(Person_0._p==in_elevator)))\", 1, 2, 0);\r\n",
        "42c42\r\n",
        "< \ttrans[6][7]\t= settr(280,0,17,5,0,\"((Person_0._p==out))\", 1, 2, 0);\r\n",
        "---\r\n",
        "> \ttrans[6][7]\t= settr(280,0,17,5,0,\"(((!((Person_0._p==waiting))&&(Person_0._p==out))&&!((Person_0._p==in_elevator))))\", 1, 2, 0);\r\n",
        "45c45\r\n",
        "< \ttrans[6][9]\t= settr(282,0,11,6,0,\"((Person_0._p==in_elevator))\", 1, 2, 0);\r\n",
        "---\r\n",
        "> \ttrans[6][9]\t= settr(282,0,11,6,0,\"((!((Person_0._p==waiting))&&!((Person_0._p==out))))\", 1, 2, 0);\r\n",
        "50c50\r\n",
        "< \ttrans[6][13]\t= settr(286,0,17,7,0,\"((Person_0._p==out))\", 1, 2, 0);\r\n",
        "---\r\n",
        "> \ttrans[6][13]\t= settr(286,0,17,7,0,\"(((!((Person_0._p==waiting))&&(Person_0._p==out))&&!((Person_0._p==in_elevator))))\", 1, 2, 0);\r\n",
        "53c53\r\n",
        "< \ttrans[6][15]\t= settr(288,0,11,8,0,\"((Person_0._p==in_elevator))\", 1, 2, 0);\r\n",
        "---\r\n",
        "> \ttrans[6][15]\t= settr(288,0,11,8,0,\"((!((Person_0._p==waiting))&&!((Person_0._p==out))))\", 1, 2, 0);\r\n",
        "362,364c362,364\r\n",
        "< \ttrans[0][2]\t= settr(1,0,21,1,0,\"goto waiting\", 0, 2, 0);\r\n",
        "< \ttrans[0][4]\t= settr(3,0,21,1,0,\".(goto)\", 0, 2, 0);\r\n",
        "< \tT = trans[0][21] = settr(20,0,0,0,0,\"IF\", 0, 2, 0);\r\n",
        "---\r\n",
        "> \ttrans[0][2]\t= settr(1,0,21,1,0,\"goto waiting\", 1, 2, 0);\r\n",
        "> \ttrans[0][4]\t= settr(3,0,21,1,0,\".(goto)\", 1, 2, 0);\r\n",
        "> \tT = trans[0][21] = settr(20,0,0,0,0,\"IF\", 1, 2, 0);\r\n"
       ]
      },
      {
       "output_type": "stream",
       "stream": "stdout",
       "text": [
        "diff labelstrip.m ltlstrip.m\n",
        "22c22\r\n",
        "< \tcase 3: /* STATE 1 - labelstrip.never:8 - [((Person_0._p==out))] (0:0:0 - 1) */\r\n",
        "---\r\n",
        "> \tcase 3: /* STATE 1 - ltlstrip.never:8 - [((!((Person_0._p==waiting))&&!((Person_0._p==in_elevator))))] (0:0:0 - 1) */\r\n",
        "45c45\r\n",
        "< \t\tif (!((((int)((P0 *)Pptr(f_pid(0)))->_p)==3)))\r\n",
        "---\r\n",
        "> \t\tif (!(( !((((int)((P0 *)Pptr(f_pid(0)))->_p)==21))&& !((((int)((P0 *)Pptr(f_pid(0)))->_p)==25)))))\r\n",
        "48c48\r\n",
        "< \tcase 4: /* STATE 3 - labelstrip.never:9 - [((Person_0._p==in_elevator))] (0:0:0 - 1) */\r\n",
        "---\r\n",
        "> \tcase 4: /* STATE 3 - ltlstrip.never:9 - [(((!((Person_0._p==waiting))&&!((Person_0._p==out)))&&(Person_0._p==in_elevator)))] (0:0:0 - 1) */\r\n",
        "71c71\r\n",
        "< \t\tif (!((((int)((P0 *)Pptr(f_pid(0)))->_p)==25)))\r\n",
        "---\r\n",
        "> \t\tif (!((( !((((int)((P0 *)Pptr(f_pid(0)))->_p)==21))&& !((((int)((P0 *)Pptr(f_pid(0)))->_p)==3)))&&(((int)((P0 *)Pptr(f_pid(0)))->_p)==25))))\r\n",
        "74c74\r\n",
        "< \tcase 5: /* STATE 7 - labelstrip.never:13 - [((Person_0._p==out))] (0:0:0 - 1) */\r\n",
        "---\r\n",
        "> \tcase 5: /* STATE 7 - ltlstrip.never:13 - [(((!((Person_0._p==waiting))&&(Person_0._p==out))&&!((Person_0._p==in_elevator))))] (0:0:0 - 1) */\r\n",
        "97c97\r\n",
        "< \t\tif (!((((int)((P0 *)Pptr(f_pid(0)))->_p)==3)))\r\n",
        "---\r\n",
        "> \t\tif (!((( !((((int)((P0 *)Pptr(f_pid(0)))->_p)==21))&&(((int)((P0 *)Pptr(f_pid(0)))->_p)==3))&& !((((int)((P0 *)Pptr(f_pid(0)))->_p)==25)))))\r\n",
        "100c100\r\n",
        "< \tcase 6: /* STATE 9 - labelstrip.never:14 - [((Person_0._p==in_elevator))] (0:0:0 - 1) */\r\n",
        "---\r\n",
        "> \tcase 6: /* STATE 9 - ltlstrip.never:14 - [((!((Person_0._p==waiting))&&!((Person_0._p==out))))] (0:0:0 - 1) */\r\n",
        "123c123\r\n",
        "< \t\tif (!((((int)((P0 *)Pptr(f_pid(0)))->_p)==25)))\r\n",
        "---\r\n",
        "> \t\tif (!(( !((((int)((P0 *)Pptr(f_pid(0)))->_p)==21))&& !((((int)((P0 *)Pptr(f_pid(0)))->_p)==3)))))\r\n",
        "126c126\r\n",
        "< \tcase 7: /* STATE 13 - labelstrip.never:18 - [((Person_0._p==out))] (0:0:0 - 1) */\r\n",
        "---\r\n",
        "> \tcase 7: /* STATE 13 - ltlstrip.never:18 - [(((!((Person_0._p==waiting))&&(Person_0._p==out))&&!((Person_0._p==in_elevator))))] (0:0:0 - 1) */\r\n",
        "149c149\r\n",
        "< \t\tif (!((((int)((P0 *)Pptr(f_pid(0)))->_p)==3)))\r\n",
        "---\r\n",
        "> \t\tif (!((( !((((int)((P0 *)Pptr(f_pid(0)))->_p)==21))&&(((int)((P0 *)Pptr(f_pid(0)))->_p)==3))&& !((((int)((P0 *)Pptr(f_pid(0)))->_p)==25)))))\r\n",
        "152c152\r\n",
        "< \tcase 8: /* STATE 15 - labelstrip.never:19 - [((Person_0._p==in_elevator))] (0:0:0 - 1) */\r\n",
        "---\r\n",
        "> \tcase 8: /* STATE 15 - ltlstrip.never:19 - [((!((Person_0._p==waiting))&&!((Person_0._p==out))))] (0:0:0 - 1) */\r\n",
        "175c175\r\n",
        "< \t\tif (!((((int)((P0 *)Pptr(f_pid(0)))->_p)==25)))\r\n",
        "---\r\n",
        "> \t\tif (!(( !((((int)((P0 *)Pptr(f_pid(0)))->_p)==21))&& !((((int)((P0 *)Pptr(f_pid(0)))->_p)==3)))))\r\n",
        "178c178\r\n",
        "< \tcase 9: /* STATE 19 - labelstrip.never:21 - [-end-] (0:0:0 - 1) */\r\n",
        "---\r\n",
        "> \tcase 9: /* STATE 19 - ltlstrip.never:21 - [-end-] (0:0:0 - 1) */\r\n"
       ]
      },
      {
       "output_type": "stream",
       "stream": "stdout",
       "text": [
        "diff labelstrip.p ltlstrip.p\n"
       ]
      },
      {
       "output_type": "stream",
       "stream": "stdout",
       "text": [
        "diff labelstrip.h ltlstrip.h\n",
        "105c105\r\n",
        "< #define REM_REFS\t6\r\n",
        "---\r\n",
        "> #define REM_REFS\t15\r\n"
       ]
      }
     ],
     "prompt_number": 93
    }
   ],
   "metadata": {}
  }
 ]
}